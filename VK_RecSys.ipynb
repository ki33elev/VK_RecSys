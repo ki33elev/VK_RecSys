{
 "cells": [
  {
   "cell_type": "code",
   "execution_count": 1,
   "metadata": {},
   "outputs": [],
   "source": [
    "import abc\n",
    "import typing as tp\n",
    "\n",
    "import numpy as np\n",
    "import pandas as pd\n",
    "import matplotlib.pyplot as plt\n",
    "%matplotlib inline"
   ]
  },
  {
   "cell_type": "markdown",
   "metadata": {},
   "source": [
    "# 0. Загрузка данных, предобработка."
   ]
  },
  {
   "cell_type": "code",
   "execution_count": 2,
   "metadata": {},
   "outputs": [],
   "source": [
    "tag = pd.read_csv('tag.csv')\n",
    "rating = pd.read_csv('rating.csv')\n",
    "movies = pd.read_csv('movie.csv')\n",
    "genome_scores = pd.read_csv('genome_scores.csv')\n",
    "# link = pd.read_csv('link.csv')\n",
    "genome_tag = pd.read_csv('genome_tags.csv')"
   ]
  },
  {
   "cell_type": "code",
   "execution_count": 3,
   "metadata": {},
   "outputs": [],
   "source": [
    "def get_log_info(log, user_id='userId', movie_id='movieId'):\n",
    "    print(f'Длина лога: {log.shape[0]},\\nКоличество пользователей: {log[user_id].nunique()},\\nКоличество фильмов: {log[movie_id].nunique()}')"
   ]
  },
  {
   "cell_type": "code",
   "execution_count": 4,
   "metadata": {},
   "outputs": [
    {
     "data": {
      "text/html": [
       "<div>\n",
       "<style scoped>\n",
       "    .dataframe tbody tr th:only-of-type {\n",
       "        vertical-align: middle;\n",
       "    }\n",
       "\n",
       "    .dataframe tbody tr th {\n",
       "        vertical-align: top;\n",
       "    }\n",
       "\n",
       "    .dataframe thead th {\n",
       "        text-align: right;\n",
       "    }\n",
       "</style>\n",
       "<table border=\"1\" class=\"dataframe\">\n",
       "  <thead>\n",
       "    <tr style=\"text-align: right;\">\n",
       "      <th></th>\n",
       "      <th>movieId</th>\n",
       "      <th>title</th>\n",
       "      <th>genres</th>\n",
       "    </tr>\n",
       "  </thead>\n",
       "  <tbody>\n",
       "    <tr>\n",
       "      <th>0</th>\n",
       "      <td>1</td>\n",
       "      <td>Toy Story (1995)</td>\n",
       "      <td>Adventure|Animation|Children|Comedy|Fantasy</td>\n",
       "    </tr>\n",
       "    <tr>\n",
       "      <th>1</th>\n",
       "      <td>2</td>\n",
       "      <td>Jumanji (1995)</td>\n",
       "      <td>Adventure|Children|Fantasy</td>\n",
       "    </tr>\n",
       "    <tr>\n",
       "      <th>2</th>\n",
       "      <td>3</td>\n",
       "      <td>Grumpier Old Men (1995)</td>\n",
       "      <td>Comedy|Romance</td>\n",
       "    </tr>\n",
       "    <tr>\n",
       "      <th>3</th>\n",
       "      <td>4</td>\n",
       "      <td>Waiting to Exhale (1995)</td>\n",
       "      <td>Comedy|Drama|Romance</td>\n",
       "    </tr>\n",
       "    <tr>\n",
       "      <th>4</th>\n",
       "      <td>5</td>\n",
       "      <td>Father of the Bride Part II (1995)</td>\n",
       "      <td>Comedy</td>\n",
       "    </tr>\n",
       "  </tbody>\n",
       "</table>\n",
       "</div>"
      ],
      "text/plain": [
       "   movieId                               title  \\\n",
       "0        1                    Toy Story (1995)   \n",
       "1        2                      Jumanji (1995)   \n",
       "2        3             Grumpier Old Men (1995)   \n",
       "3        4            Waiting to Exhale (1995)   \n",
       "4        5  Father of the Bride Part II (1995)   \n",
       "\n",
       "                                        genres  \n",
       "0  Adventure|Animation|Children|Comedy|Fantasy  \n",
       "1                   Adventure|Children|Fantasy  \n",
       "2                               Comedy|Romance  \n",
       "3                         Comedy|Drama|Romance  \n",
       "4                                       Comedy  "
      ]
     },
     "execution_count": 4,
     "metadata": {},
     "output_type": "execute_result"
    }
   ],
   "source": [
    "movies.head()"
   ]
  },
  {
   "cell_type": "code",
   "execution_count": 5,
   "metadata": {},
   "outputs": [
    {
     "data": {
      "text/html": [
       "<div>\n",
       "<style scoped>\n",
       "    .dataframe tbody tr th:only-of-type {\n",
       "        vertical-align: middle;\n",
       "    }\n",
       "\n",
       "    .dataframe tbody tr th {\n",
       "        vertical-align: top;\n",
       "    }\n",
       "\n",
       "    .dataframe thead th {\n",
       "        text-align: right;\n",
       "    }\n",
       "</style>\n",
       "<table border=\"1\" class=\"dataframe\">\n",
       "  <thead>\n",
       "    <tr style=\"text-align: right;\">\n",
       "      <th></th>\n",
       "      <th>userId</th>\n",
       "      <th>movieId</th>\n",
       "      <th>rating</th>\n",
       "      <th>timestamp</th>\n",
       "    </tr>\n",
       "  </thead>\n",
       "  <tbody>\n",
       "    <tr>\n",
       "      <th>0</th>\n",
       "      <td>1</td>\n",
       "      <td>2</td>\n",
       "      <td>3.5</td>\n",
       "      <td>2005-04-02 23:53:47</td>\n",
       "    </tr>\n",
       "    <tr>\n",
       "      <th>1</th>\n",
       "      <td>1</td>\n",
       "      <td>29</td>\n",
       "      <td>3.5</td>\n",
       "      <td>2005-04-02 23:31:16</td>\n",
       "    </tr>\n",
       "    <tr>\n",
       "      <th>2</th>\n",
       "      <td>1</td>\n",
       "      <td>32</td>\n",
       "      <td>3.5</td>\n",
       "      <td>2005-04-02 23:33:39</td>\n",
       "    </tr>\n",
       "    <tr>\n",
       "      <th>3</th>\n",
       "      <td>1</td>\n",
       "      <td>47</td>\n",
       "      <td>3.5</td>\n",
       "      <td>2005-04-02 23:32:07</td>\n",
       "    </tr>\n",
       "    <tr>\n",
       "      <th>4</th>\n",
       "      <td>1</td>\n",
       "      <td>50</td>\n",
       "      <td>3.5</td>\n",
       "      <td>2005-04-02 23:29:40</td>\n",
       "    </tr>\n",
       "  </tbody>\n",
       "</table>\n",
       "</div>"
      ],
      "text/plain": [
       "   userId  movieId  rating            timestamp\n",
       "0       1        2     3.5  2005-04-02 23:53:47\n",
       "1       1       29     3.5  2005-04-02 23:31:16\n",
       "2       1       32     3.5  2005-04-02 23:33:39\n",
       "3       1       47     3.5  2005-04-02 23:32:07\n",
       "4       1       50     3.5  2005-04-02 23:29:40"
      ]
     },
     "execution_count": 5,
     "metadata": {},
     "output_type": "execute_result"
    }
   ],
   "source": [
    "rating.head()"
   ]
  },
  {
   "cell_type": "code",
   "execution_count": 6,
   "metadata": {},
   "outputs": [
    {
     "name": "stdout",
     "output_type": "stream",
     "text": [
      "Длина лога: 20000263,\n",
      "Количество пользователей: 138493,\n",
      "Количество фильмов: 26744\n"
     ]
    }
   ],
   "source": [
    "get_log_info(rating)"
   ]
  },
  {
   "cell_type": "code",
   "execution_count": 7,
   "metadata": {},
   "outputs": [
    {
     "data": {
      "text/html": [
       "<div>\n",
       "<style scoped>\n",
       "    .dataframe tbody tr th:only-of-type {\n",
       "        vertical-align: middle;\n",
       "    }\n",
       "\n",
       "    .dataframe tbody tr th {\n",
       "        vertical-align: top;\n",
       "    }\n",
       "\n",
       "    .dataframe thead th {\n",
       "        text-align: right;\n",
       "    }\n",
       "</style>\n",
       "<table border=\"1\" class=\"dataframe\">\n",
       "  <thead>\n",
       "    <tr style=\"text-align: right;\">\n",
       "      <th></th>\n",
       "      <th>userId</th>\n",
       "      <th>movieId</th>\n",
       "      <th>tag</th>\n",
       "      <th>timestamp</th>\n",
       "    </tr>\n",
       "  </thead>\n",
       "  <tbody>\n",
       "    <tr>\n",
       "      <th>0</th>\n",
       "      <td>18</td>\n",
       "      <td>4141</td>\n",
       "      <td>Mark Waters</td>\n",
       "      <td>2009-04-24 18:19:40</td>\n",
       "    </tr>\n",
       "    <tr>\n",
       "      <th>1</th>\n",
       "      <td>65</td>\n",
       "      <td>208</td>\n",
       "      <td>dark hero</td>\n",
       "      <td>2013-05-10 01:41:18</td>\n",
       "    </tr>\n",
       "    <tr>\n",
       "      <th>2</th>\n",
       "      <td>65</td>\n",
       "      <td>353</td>\n",
       "      <td>dark hero</td>\n",
       "      <td>2013-05-10 01:41:19</td>\n",
       "    </tr>\n",
       "    <tr>\n",
       "      <th>3</th>\n",
       "      <td>65</td>\n",
       "      <td>521</td>\n",
       "      <td>noir thriller</td>\n",
       "      <td>2013-05-10 01:39:43</td>\n",
       "    </tr>\n",
       "    <tr>\n",
       "      <th>4</th>\n",
       "      <td>65</td>\n",
       "      <td>592</td>\n",
       "      <td>dark hero</td>\n",
       "      <td>2013-05-10 01:41:18</td>\n",
       "    </tr>\n",
       "  </tbody>\n",
       "</table>\n",
       "</div>"
      ],
      "text/plain": [
       "   userId  movieId            tag            timestamp\n",
       "0      18     4141    Mark Waters  2009-04-24 18:19:40\n",
       "1      65      208      dark hero  2013-05-10 01:41:18\n",
       "2      65      353      dark hero  2013-05-10 01:41:19\n",
       "3      65      521  noir thriller  2013-05-10 01:39:43\n",
       "4      65      592      dark hero  2013-05-10 01:41:18"
      ]
     },
     "execution_count": 7,
     "metadata": {},
     "output_type": "execute_result"
    }
   ],
   "source": [
    "tag.head()"
   ]
  },
  {
   "cell_type": "code",
   "execution_count": 8,
   "metadata": {},
   "outputs": [
    {
     "name": "stdout",
     "output_type": "stream",
     "text": [
      "Длина лога: 465564,\n",
      "Количество пользователей: 7801,\n",
      "Количество фильмов: 19545\n"
     ]
    }
   ],
   "source": [
    "get_log_info(tag)"
   ]
  },
  {
   "cell_type": "markdown",
   "metadata": {},
   "source": [
    "Объединим данные по рейтингам и фильмам в одну таблицу для удобства."
   ]
  },
  {
   "cell_type": "code",
   "execution_count": 9,
   "metadata": {},
   "outputs": [
    {
     "data": {
      "text/html": [
       "<div>\n",
       "<style scoped>\n",
       "    .dataframe tbody tr th:only-of-type {\n",
       "        vertical-align: middle;\n",
       "    }\n",
       "\n",
       "    .dataframe tbody tr th {\n",
       "        vertical-align: top;\n",
       "    }\n",
       "\n",
       "    .dataframe thead th {\n",
       "        text-align: right;\n",
       "    }\n",
       "</style>\n",
       "<table border=\"1\" class=\"dataframe\">\n",
       "  <thead>\n",
       "    <tr style=\"text-align: right;\">\n",
       "      <th></th>\n",
       "      <th>userId</th>\n",
       "      <th>movieId</th>\n",
       "      <th>rating</th>\n",
       "      <th>timestamp</th>\n",
       "      <th>title</th>\n",
       "      <th>genres</th>\n",
       "    </tr>\n",
       "  </thead>\n",
       "  <tbody>\n",
       "    <tr>\n",
       "      <th>0</th>\n",
       "      <td>1</td>\n",
       "      <td>2</td>\n",
       "      <td>3.5</td>\n",
       "      <td>2005-04-02 23:53:47</td>\n",
       "      <td>Jumanji (1995)</td>\n",
       "      <td>Adventure|Children|Fantasy</td>\n",
       "    </tr>\n",
       "    <tr>\n",
       "      <th>1</th>\n",
       "      <td>5</td>\n",
       "      <td>2</td>\n",
       "      <td>3.0</td>\n",
       "      <td>1996-12-25 15:26:09</td>\n",
       "      <td>Jumanji (1995)</td>\n",
       "      <td>Adventure|Children|Fantasy</td>\n",
       "    </tr>\n",
       "    <tr>\n",
       "      <th>2</th>\n",
       "      <td>13</td>\n",
       "      <td>2</td>\n",
       "      <td>3.0</td>\n",
       "      <td>1996-11-27 08:19:02</td>\n",
       "      <td>Jumanji (1995)</td>\n",
       "      <td>Adventure|Children|Fantasy</td>\n",
       "    </tr>\n",
       "    <tr>\n",
       "      <th>3</th>\n",
       "      <td>29</td>\n",
       "      <td>2</td>\n",
       "      <td>3.0</td>\n",
       "      <td>1996-06-23 20:36:14</td>\n",
       "      <td>Jumanji (1995)</td>\n",
       "      <td>Adventure|Children|Fantasy</td>\n",
       "    </tr>\n",
       "    <tr>\n",
       "      <th>4</th>\n",
       "      <td>34</td>\n",
       "      <td>2</td>\n",
       "      <td>3.0</td>\n",
       "      <td>1996-10-28 13:29:44</td>\n",
       "      <td>Jumanji (1995)</td>\n",
       "      <td>Adventure|Children|Fantasy</td>\n",
       "    </tr>\n",
       "  </tbody>\n",
       "</table>\n",
       "</div>"
      ],
      "text/plain": [
       "   userId  movieId  rating            timestamp           title  \\\n",
       "0       1        2     3.5  2005-04-02 23:53:47  Jumanji (1995)   \n",
       "1       5        2     3.0  1996-12-25 15:26:09  Jumanji (1995)   \n",
       "2      13        2     3.0  1996-11-27 08:19:02  Jumanji (1995)   \n",
       "3      29        2     3.0  1996-06-23 20:36:14  Jumanji (1995)   \n",
       "4      34        2     3.0  1996-10-28 13:29:44  Jumanji (1995)   \n",
       "\n",
       "                       genres  \n",
       "0  Adventure|Children|Fantasy  \n",
       "1  Adventure|Children|Fantasy  \n",
       "2  Adventure|Children|Fantasy  \n",
       "3  Adventure|Children|Fantasy  \n",
       "4  Adventure|Children|Fantasy  "
      ]
     },
     "execution_count": 9,
     "metadata": {},
     "output_type": "execute_result"
    }
   ],
   "source": [
    "df = rating.merge(movies, on='movieId')\n",
    "df.head()"
   ]
  },
  {
   "cell_type": "markdown",
   "metadata": {},
   "source": [
    "Упорядочим id пользователей и фильмов - понадобится для LightFM."
   ]
  },
  {
   "cell_type": "code",
   "execution_count": 10,
   "metadata": {},
   "outputs": [],
   "source": [
    "from sklearn.preprocessing import LabelEncoder\n",
    "user_encoder = LabelEncoder()\n",
    "movie_encoder = LabelEncoder()\n",
    "user_encoder.fit(df['userId'].values)\n",
    "movie_encoder.fit(df['movieId'].values)\n",
    "df['userId'] = user_encoder.transform(df['userId'])\n",
    "df['movieId'] = movie_encoder.transform(df['movieId'])"
   ]
  },
  {
   "cell_type": "code",
   "execution_count": 11,
   "metadata": {},
   "outputs": [
    {
     "name": "stdout",
     "output_type": "stream",
     "text": [
      "Длина лога: 20000263,\n",
      "Количество пользователей: 138493,\n",
      "Количество фильмов: 26744\n"
     ]
    }
   ],
   "source": [
    "get_log_info(df)"
   ]
  },
  {
   "cell_type": "markdown",
   "metadata": {},
   "source": [
    "Посмотрим на распредление оценок, а также на число оценок по пользователям и по книгам. "
   ]
  },
  {
   "cell_type": "code",
   "execution_count": 12,
   "metadata": {},
   "outputs": [
    {
     "data": {
      "text/plain": [
       "4.0    5561926\n",
       "3.0    4291193\n",
       "5.0    2898660\n",
       "3.5    2200156\n",
       "4.5    1534824\n",
       "2.0    1430997\n",
       "2.5     883398\n",
       "1.0     680732\n",
       "1.5     279252\n",
       "0.5     239125\n",
       "Name: rating, dtype: int64"
      ]
     },
     "execution_count": 12,
     "metadata": {},
     "output_type": "execute_result"
    }
   ],
   "source": [
    "df['rating'].value_counts()"
   ]
  },
  {
   "cell_type": "code",
   "execution_count": 13,
   "metadata": {},
   "outputs": [
    {
     "data": {
      "text/plain": [
       "<matplotlib.axes._subplots.AxesSubplot at 0x29883a06388>"
      ]
     },
     "execution_count": 13,
     "metadata": {},
     "output_type": "execute_result"
    },
    {
     "data": {
      "image/png": "[encoded data removed]",
      "text/plain": [
       "<Figure size 720x360 with 1 Axes>"
      ]
     },
     "metadata": {
      "needs_background": "light"
     },
     "output_type": "display_data"
    }
   ],
   "source": [
    "df['rating'].hist(bins=10, figsize=(10, 5))"
   ]
  },
  {
   "cell_type": "markdown",
   "metadata": {},
   "source": [
    "Видим, что пользователи в целом не очень охотно ставят низкие (меньше 3) оценки. Но и самую высокую оценку 5 ставят тоже не так часто."
   ]
  },
  {
   "cell_type": "code",
   "execution_count": 14,
   "metadata": {},
   "outputs": [],
   "source": [
    "def group_by_and_plot(df, group_by_name, rating_col_name, title=''):\n",
    "    grouped = df.groupby(group_by_name)[rating_col_name].count()\n",
    "    print(grouped.describe(percentiles=[0.05, .25, .5, .75, 0.95]))\n",
    "    grouped[grouped < grouped.quantile(0.98)].plot(kind='hist', bins=50, figsize=(10, 5), title=title)\n",
    "    return grouped"
   ]
  },
  {
   "cell_type": "code",
   "execution_count": 15,
   "metadata": {},
   "outputs": [
    {
     "name": "stdout",
     "output_type": "stream",
     "text": [
      "count    138493.000000\n",
      "mean        144.413530\n",
      "std         230.267257\n",
      "min          20.000000\n",
      "5%           21.000000\n",
      "25%          35.000000\n",
      "50%          68.000000\n",
      "75%         155.000000\n",
      "95%         520.000000\n",
      "max        9254.000000\n",
      "Name: rating, dtype: float64\n"
     ]
    },
    {
     "data": {
      "image/png": "[encoded data removed]",
      "text/plain": [
       "<Figure size 720x360 with 1 Axes>"
      ]
     },
     "metadata": {
      "needs_background": "light"
     },
     "output_type": "display_data"
    }
   ],
   "source": [
    "user_count = group_by_and_plot(df, 'userId', 'rating', 'Число оценок у пользователей')"
   ]
  },
  {
   "cell_type": "code",
   "execution_count": 16,
   "metadata": {},
   "outputs": [
    {
     "name": "stdout",
     "output_type": "stream",
     "text": [
      "count    26744.000000\n",
      "mean       747.841123\n",
      "std       3085.818268\n",
      "min          1.000000\n",
      "5%           1.000000\n",
      "25%          3.000000\n",
      "50%         18.000000\n",
      "75%        205.000000\n",
      "95%       3612.950000\n",
      "max      67310.000000\n",
      "Name: rating, dtype: float64\n"
     ]
    },
    {
     "data": {
      "image/png": "[encoded data removed]",
      "text/plain": [
       "<Figure size 720x360 with 1 Axes>"
      ]
     },
     "metadata": {
      "needs_background": "light"
     },
     "output_type": "display_data"
    }
   ],
   "source": [
    "movie_count = group_by_and_plot(df, 'movieId', 'rating', 'Число оценок у фильмов')"
   ]
  },
  {
   "cell_type": "markdown",
   "metadata": {},
   "source": [
    "Итого, действия со стороны пользователей вполне удовлетворительные - у всех хотя бы 20 отзывов, у половины не менее 68 отзывов. С фильмами немного хуже - есть много фильмов с совсем маленьким количеством отзывов. Учитывать их при рекомендации было бы не очень хорошо, поэтому оставим только те фильмы, у которых есть хотя бы 5 отзывов."
   ]
  },
  {
   "cell_type": "code",
   "execution_count": 17,
   "metadata": {},
   "outputs": [
    {
     "name": "stdout",
     "output_type": "stream",
     "text": [
      "Wall time: 6.69 s\n"
     ]
    }
   ],
   "source": [
    "%%time\n",
    "movie_counts = df.groupby('movieId')['rating'].count()\n",
    "movies_to_preserve = movie_counts[movie_counts >= 5]\n",
    "df = df[df['movieId'].isin(movies_to_preserve.index)]"
   ]
  },
  {
   "cell_type": "code",
   "execution_count": 18,
   "metadata": {},
   "outputs": [
    {
     "name": "stdout",
     "output_type": "stream",
     "text": [
      "Длина лога: 19984024,\n",
      "Количество пользователей: 138493,\n",
      "Количество фильмов: 18345\n"
     ]
    }
   ],
   "source": [
    "get_log_info(df)"
   ]
  },
  {
   "cell_type": "markdown",
   "metadata": {},
   "source": [
    "# 1. Вопрос - как определять успех?"
   ]
  },
  {
   "cell_type": "markdown",
   "metadata": {},
   "source": [
    "Перед тем, как идти дальше, надо принять важное решение - как мы будем определять, успешна наша рекомендация (\"праильная\" ли она) или нет? В идеальном случае, можно было бы выдавать каждому пользователю упорядоченный список фильмов для просмотра, а дальше смотреть, какие оценки он им поставил, и исходя из этого как-то мерить качество. Но это сложно, и мы поступим проще - сведем весь спектр впечатлений от просмотра фильма к бинарной переменной - понравился пользователю фильм или нет. Что значит, что фильм понравился? Это довольно субъективный вопрос, и на него нет единственно правильного ответа. Однако, позволим себе предположить, что фильм пользователю понравился, если тот поставил ему оценку 4 и выше. С точки зрения здравого смысла это довольно логичное предположение, а также оно логично исходя из распределения рейтингов.\n",
    "\\\n",
    "\\\n",
    "Итого, оставим в датасете только те действия, где была поставлена оценка 4 и выше. Далее, предалагая пользователю какой-то набор фильмов, будем смотреть, какие из них ему понравились - то есть какие из них он посмотрел и поставил им хорошую оценку."
   ]
  },
  {
   "cell_type": "code",
   "execution_count": 19,
   "metadata": {},
   "outputs": [
    {
     "name": "stdout",
     "output_type": "stream",
     "text": [
      "Wall time: 2.37 s\n"
     ]
    }
   ],
   "source": [
    "%%time\n",
    "df = df[df['rating'] >= 4.0]"
   ]
  },
  {
   "cell_type": "code",
   "execution_count": 20,
   "metadata": {},
   "outputs": [
    {
     "name": "stdout",
     "output_type": "stream",
     "text": [
      "count    138287.000000\n",
      "mean         72.252316\n",
      "std         102.110392\n",
      "min           1.000000\n",
      "5%            9.000000\n",
      "25%          19.000000\n",
      "50%          37.000000\n",
      "75%          84.000000\n",
      "95%         249.000000\n",
      "max        3168.000000\n",
      "Name: rating, dtype: float64\n"
     ]
    },
    {
     "data": {
      "image/png": "[encoded data removed]",
      "text/plain": [
       "<Figure size 720x360 with 1 Axes>"
      ]
     },
     "metadata": {
      "needs_background": "light"
     },
     "output_type": "display_data"
    }
   ],
   "source": [
    "user_count = group_by_and_plot(df, 'userId', 'rating', 'Число оценок у пользователей')"
   ]
  },
  {
   "cell_type": "code",
   "execution_count": 21,
   "metadata": {},
   "outputs": [
    {
     "name": "stdout",
     "output_type": "stream",
     "text": [
      "count    17679.000000\n",
      "mean       565.165224\n",
      "std       2310.810876\n",
      "min          1.000000\n",
      "5%           1.000000\n",
      "25%          5.000000\n",
      "50%         27.000000\n",
      "75%        185.000000\n",
      "95%       2677.100000\n",
      "max      55807.000000\n",
      "Name: rating, dtype: float64\n"
     ]
    },
    {
     "data": {
      "image/png": "[encoded data removed]",
      "text/plain": [
       "<Figure size 720x360 with 1 Axes>"
      ]
     },
     "metadata": {
      "needs_background": "light"
     },
     "output_type": "display_data"
    }
   ],
   "source": [
    "movie_count = group_by_and_plot(df, 'movieId', 'rating', 'Число оценок у фильмов')"
   ]
  },
  {
   "cell_type": "markdown",
   "metadata": {},
   "source": [
    "Теперь у нас уже появились не очень активные пользователи (то есть жо этого они ставили почти одни плохие оценки, но таким пользователям и предлагать что-то сложно) и фильмы, которым поставили мало хороших оценок (но такие фильмы вряд ли имеет большой смысл предлагать кому-то - они во-первых не очень известные, а во-вторых, судя по всему плохие).\n",
    "\\\n",
    "Уберем пользователей, оставивших менее 10 отзывов, и фильмы, которые были оценены менее 5 раз."
   ]
  },
  {
   "cell_type": "code",
   "execution_count": 22,
   "metadata": {},
   "outputs": [
    {
     "name": "stdout",
     "output_type": "stream",
     "text": [
      "Wall time: 8.01 s\n"
     ]
    }
   ],
   "source": [
    "%%time\n",
    "movie_counts = df.groupby('movieId')['rating'].count()\n",
    "user_counts = df.groupby('userId')['rating'].count()\n",
    "movies_to_preserve = movie_counts[movie_counts >= 5]\n",
    "users_to_preserve = user_counts[user_counts >= 10]\n",
    "df = df[df['movieId'].isin(movies_to_preserve.index)]\n",
    "df = df[df['userId'].isin(users_to_preserve.index)]"
   ]
  },
  {
   "cell_type": "code",
   "execution_count": 23,
   "metadata": {},
   "outputs": [
    {
     "name": "stdout",
     "output_type": "stream",
     "text": [
      "Длина лога: 9926677,\n",
      "Количество пользователей: 129794,\n",
      "Количество фильмов: 13681\n"
     ]
    }
   ],
   "source": [
    "get_log_info(df)"
   ]
  },
  {
   "cell_type": "markdown",
   "metadata": {},
   "source": [
    "# 2. Разбиение данных на обучение и валидацию."
   ]
  },
  {
   "cell_type": "markdown",
   "metadata": {},
   "source": [
    "Будем разбивать данные по времени - на старых действиях пользователей будем обучаться, на новых - тестировать модель. Так стоит делать, чтобы не заглядывать в будущее. Отведем 70% датафрейма на трейн, 30% - на тест (возьмем с запасом, потому что дальше тест будет прилично обрезаться).\n",
    "\\\n",
    "Также для нашего удобства и для адекватного качества оставим в тесте только активных пользователей. Что такое активный пользователь, определим ниже исходя из распределения числа отзывов в тесте."
   ]
  },
  {
   "cell_type": "code",
   "execution_count": 24,
   "metadata": {},
   "outputs": [
    {
     "name": "stdout",
     "output_type": "stream",
     "text": [
      "Wall time: 12.7 s\n"
     ]
    }
   ],
   "source": [
    "%%time\n",
    "df.loc[:, 'timestamp'] = pd.to_datetime(df['timestamp'], format=\"%Y-%m-%d %H:%M:%S\")"
   ]
  },
  {
   "cell_type": "code",
   "execution_count": 25,
   "metadata": {},
   "outputs": [
    {
     "name": "stdout",
     "output_type": "stream",
     "text": [
      "Wall time: 960 ms\n"
     ]
    }
   ],
   "source": [
    "%%time\n",
    "border_time = df['timestamp'].quantile(0.7)\n",
    "df_train = df[df['timestamp'] <= border_time]\n",
    "df_test = df[df['timestamp'] > border_time]"
   ]
  },
  {
   "cell_type": "code",
   "execution_count": 26,
   "metadata": {},
   "outputs": [
    {
     "name": "stdout",
     "output_type": "stream",
     "text": [
      "Длина лога: 6948674,\n",
      "Количество пользователей: 94587,\n",
      "Количество фильмов: 8868\n"
     ]
    }
   ],
   "source": [
    "get_log_info(df_train)"
   ]
  },
  {
   "cell_type": "code",
   "execution_count": 27,
   "metadata": {},
   "outputs": [
    {
     "name": "stdout",
     "output_type": "stream",
     "text": [
      "Длина лога: 2978003,\n",
      "Количество пользователей: 40314,\n",
      "Количество фильмов: 13303\n"
     ]
    }
   ],
   "source": [
    "get_log_info(df_test)"
   ]
  },
  {
   "cell_type": "code",
   "execution_count": 28,
   "metadata": {},
   "outputs": [
    {
     "name": "stdout",
     "output_type": "stream",
     "text": [
      "count    129794.000000\n",
      "mean         76.480246\n",
      "std         103.628062\n",
      "min           8.000000\n",
      "5%           12.000000\n",
      "25%          21.000000\n",
      "50%          41.000000\n",
      "75%          89.000000\n",
      "95%         256.350000\n",
      "max        3150.000000\n",
      "Name: rating, dtype: float64\n"
     ]
    },
    {
     "data": {
      "image/png": "[encoded data removed]",
      "text/plain": [
       "<Figure size 720x360 with 1 Axes>"
      ]
     },
     "metadata": {
      "needs_background": "light"
     },
     "output_type": "display_data"
    }
   ],
   "source": [
    "user_test_count = group_by_and_plot(df, 'userId', 'rating', 'Число оценок у пользователей')"
   ]
  },
  {
   "cell_type": "markdown",
   "metadata": {},
   "source": [
    "В целом, выглядит неплохо, отзывов достаточно. Однако, есть пользователи, которые в тесте оставили огрмное количество отзывов. С такими работать не очень удобно. Здесь сделаем довольно сильное огрубление - оставим в тесте только тех пользователей, которые посмотрели (теперь это значит посмотрели и поставили хорошую оценку) хотя бы 10 фильмов, и среди просмотренных ими фильмов оставим только первые 10 по вхождению."
   ]
  },
  {
   "cell_type": "code",
   "execution_count": 29,
   "metadata": {},
   "outputs": [
    {
     "name": "stdout",
     "output_type": "stream",
     "text": [
      "Wall time: 5.95 s\n"
     ]
    }
   ],
   "source": [
    "%%time\n",
    "users_test_count = df_test.groupby('userId')['movieId'].count()\n",
    "users_test_to_preserve = users_test_count[users_test_count >= 10]\n",
    "\n",
    "df_test = df_test[df_test['userId'].isin(users_test_to_preserve.index)]\n",
    "df_test['rank'] = df_test.groupby('userId')['timestamp'].rank(method=\"first\", ascending=True)\n",
    "df_test = df_test[df_test['rank'] <= 10].drop('rank', axis=1)"
   ]
  },
  {
   "cell_type": "markdown",
   "metadata": {},
   "source": [
    "Также удалим из теста пользователей, которых нет в трейней - непонятно, как рекомендовать что-то человеку, который ни с чем не взаимодействовал."
   ]
  },
  {
   "cell_type": "code",
   "execution_count": 30,
   "metadata": {},
   "outputs": [],
   "source": [
    "df_test = df_test[df_test['userId'].isin(df_train['userId'].unique())]"
   ]
  },
  {
   "cell_type": "code",
   "execution_count": 31,
   "metadata": {},
   "outputs": [
    {
     "name": "stdout",
     "output_type": "stream",
     "text": [
      "Длина лога: 39520,\n",
      "Количество пользователей: 3952,\n",
      "Количество фильмов: 4747\n"
     ]
    }
   ],
   "source": [
    "get_log_info(df_test)"
   ]
  },
  {
   "cell_type": "code",
   "execution_count": 32,
   "metadata": {},
   "outputs": [],
   "source": [
    "test_users = pd.Series(df_test['userId'].unique())"
   ]
  },
  {
   "cell_type": "markdown",
   "metadata": {},
   "source": [
    "# 3. Метрики качества."
   ]
  },
  {
   "cell_type": "markdown",
   "metadata": {},
   "source": [
    "Для сравнения моделей, которые мы далее будем строить, будем использовать несколько метрик. Это типичные для ранжирования метрики HitRate и MeanAveragePrecision, а также более нестандартные метрики Coverage и Surprisal, отвечающие за разнообразие наших рекомендаций.\n",
    "\\\n",
    "Для подсчета метрик я использую библиотеку `rs_metrics`, подробно о ней и о используемых метриках можно посмотреть [здесь](https://darel13712.github.io/rs_metrics/).\n",
    "\\\n",
    "\\\n",
    "Напишем функцию, которая будет считать все 4 метрики для предсказания, и выводить их в удобном формате. Так как мы каждому пользователю будем рекомендовать 10 фильмов (об этом далее), то все метрики будем считать `@10`. Основной метрикой будем считать MeanAveragePrecision (`map@10`)."
   ]
  },
  {
   "cell_type": "code",
   "execution_count": 33,
   "metadata": {},
   "outputs": [],
   "source": [
    "# !pip install rs_metrics\n",
    "from rs_metrics import hitrate, mapr, coverage, surprisal"
   ]
  },
  {
   "cell_type": "code",
   "execution_count": 34,
   "metadata": {},
   "outputs": [],
   "source": [
    "def print_metrics(pred, true, model_name, unique_items=df['movieId'].unique(), log=df, metrics_df=None):\n",
    "    user_col = 'userId'\n",
    "    item_col = 'movieId'\n",
    "    K = 10    # can be changed\n",
    "    if metrics_df is None:\n",
    "        metrics_df = pd.DataFrame(columns=['hit_rate@10', 'map@10', 'coverage@10', 'surprisal@10'])\n",
    "    \n",
    "    metrics_df.loc[model_name, 'hit_rate@10'] = hitrate(true, pred, k=K, user_col=user_col, item_col=item_col)\n",
    "    metrics_df.loc[model_name, 'map@10'] = mapr(true, pred, k=K, user_col=user_col, item_col=item_col)\n",
    "    metrics_df.loc[model_name, 'coverage@10'] = coverage(unique_items, pred, k=K, user_col=user_col, item_col=item_col)\n",
    "    metrics_df.loc[model_name, 'surprisal@10'] = surprisal(log, pred, k=K, user_col=user_col, item_col=item_col)\n",
    "    \n",
    "    return metrics_df"
   ]
  },
  {
   "cell_type": "markdown",
   "metadata": {},
   "source": [
    "# 4. Общий класс для моделей."
   ]
  },
  {
   "cell_type": "markdown",
   "metadata": {},
   "source": [
    "Напишем родительский класс для дальнейшего использования различных моделей - потом просто будем переопределять его методы `fit` и `_predict` (внутренний predict). В качестве предсказания будем выводить топ-10 по релевантности рекомендаций для каждого пользователя. Также добавим возможность отбрасывать фильмы, которые пользователь уже смотрел."
   ]
  },
  {
   "cell_type": "code",
   "execution_count": 35,
   "metadata": {},
   "outputs": [],
   "source": [
    "from copy import deepcopy\n",
    "\n",
    "\n",
    "def filter_seen_movies(log: pd.DataFrame, pred: pd.DataFrame) -> pd.DataFrame:\n",
    "    log_filtered = log[log['userId'].isin(pred['userId'].unique())]\n",
    "    pred = pred.merge(log_filtered[['userId', 'movieId']].drop_duplicates(), on=['userId', 'movieId'], \n",
    "                      how='outer', indicator = True)\n",
    "    return pred[pred['_merge'] == 'left_only'].drop(columns=['_merge'])\n",
    "\n",
    "\n",
    "def leave_top_10(pred: pd.DataFrame, group_by_col: str='userId',\n",
    "                 order_by_col: str='relevance') -> pd.DataFrame:\n",
    "    k = 10    # can be changed\n",
    "    if pred.groupby(group_by_col)[group_by_col].count().max() <= k:\n",
    "        return pred\n",
    "    cropped_pred = deepcopy(pred)\n",
    "    cropped_pred['rank'] = (cropped_pred.groupby(group_by_col)[[order_by_col]].rank(method=\"first\", ascending=False))\n",
    "    cropped_pred = cropped_pred[cropped_pred['rank'] <= k].drop(columns=['rank'])\n",
    "    return cropped_pred"
   ]
  },
  {
   "cell_type": "code",
   "execution_count": 36,
   "metadata": {},
   "outputs": [],
   "source": [
    "class BaseModel:\n",
    "    \n",
    "    @abc.abstractmethod\n",
    "    def fit(\n",
    "        self, log: pd.DataFrame, item_features: tp.Optional[pd.DataFrame]=None\n",
    "    ):\n",
    "        \"\"\"\n",
    "        Will overwrite for each model. Item features can be added in the content-based models.\n",
    "        \"\"\"\n",
    "    \n",
    "    \n",
    "    def predict(\n",
    "        self, users: pd.Series, log: pd.DataFrame=df_train, item_features: tp.Optional[pd.DataFrame]=None,\n",
    "        filter_seen: bool=True\n",
    "    ) -> pd.DataFrame:\n",
    "        pred = self._predict(log=log, users=users, item_features=item_features)\n",
    "        if filter_seen:\n",
    "            pred = filter_seen_movies(log, pred)\n",
    "        return leave_top_10(pred)\n",
    "    \n",
    "    \n",
    "    @abc.abstractmethod    \n",
    "    def _predict(\n",
    "        self, log: pd.DataFrame, users: pd.Series, item_features: tp.Optional[pd.DataFrame]=None\n",
    "    ) -> pd.DataFrame:\n",
    "        \"\"\"\n",
    "        Will overwrite for each model\n",
    "        \"\"\""
   ]
  },
  {
   "cell_type": "markdown",
   "metadata": {},
   "source": [
    "# 5. Baseline"
   ]
  },
  {
   "cell_type": "markdown",
   "metadata": {},
   "source": [
    "Для собственного удобства в дальнейшем оценивании моделей, а также для тестирования написанных выше функций и классов, построим простую бейзлайн-модель - будем всем рекомендовать топ-10 популярных фильмов.\n",
    "\\\n",
    "Здесь popularity = relevance = (число просмотров) / (число пользователей)"
   ]
  },
  {
   "cell_type": "code",
   "execution_count": 37,
   "metadata": {},
   "outputs": [],
   "source": [
    "class RecommendPopular(BaseModel):\n",
    "    \n",
    "    def fit(\n",
    "        self, log: pd.DataFrame, item_features: tp.Optional[pd.DataFrame]=None\n",
    "    ) -> 'RecommendPopular':\n",
    "        self.relevance = log.groupby('movieId')['userId'].count() \\\n",
    "                            .sort_values(ascending=False).rename('relevance') / log['userId'].nunique()\n",
    "        return self\n",
    "        \n",
    "    \n",
    "    def _predict(\n",
    "        self, users: pd.Series, log: pd.DataFrame=df_train, item_features: tp.Optional[pd.DataFrame]=None\n",
    "    ) -> pd.DataFrame:\n",
    "        k = 10\n",
    "        _users = pd.DataFrame(users)\n",
    "        pred = pd.DataFrame({'movieId': self.relevance[:k].index.to_list(),\n",
    "                             'relevance': self.relevance[:k].values})\n",
    "        _users['key'] = 1\n",
    "        pred['key'] = 1\n",
    "        predictions = pd.merge(_users, pred, on='key', how='outer')\n",
    "        del predictions['key']\n",
    "        predictions.rename(columns={0: 'userId'}, inplace=True)\n",
    "        return predictions"
   ]
  },
  {
   "cell_type": "markdown",
   "metadata": {},
   "source": [
    "Наконец, обучим и протестируем модель."
   ]
  },
  {
   "cell_type": "code",
   "execution_count": 38,
   "metadata": {},
   "outputs": [
    {
     "name": "stdout",
     "output_type": "stream",
     "text": [
      "Wall time: 439 ms\n"
     ]
    },
    {
     "data": {
      "text/plain": [
       "<__main__.RecommendPopular at 0x29885fd4b08>"
      ]
     },
     "execution_count": 38,
     "metadata": {},
     "output_type": "execute_result"
    }
   ],
   "source": [
    "%%time\n",
    "popular_model = RecommendPopular()\n",
    "popular_model.fit(df_train)"
   ]
  },
  {
   "cell_type": "code",
   "execution_count": 39,
   "metadata": {},
   "outputs": [
    {
     "name": "stdout",
     "output_type": "stream",
     "text": [
      "Wall time: 2.78 s\n"
     ]
    }
   ],
   "source": [
    "%%time\n",
    "pred_filter = popular_model.predict(users=test_users, filter_seen=True)"
   ]
  },
  {
   "cell_type": "code",
   "execution_count": 41,
   "metadata": {},
   "outputs": [
    {
     "data": {
      "text/html": [
       "<div>\n",
       "<style scoped>\n",
       "    .dataframe tbody tr th:only-of-type {\n",
       "        vertical-align: middle;\n",
       "    }\n",
       "\n",
       "    .dataframe tbody tr th {\n",
       "        vertical-align: top;\n",
       "    }\n",
       "\n",
       "    .dataframe thead th {\n",
       "        text-align: right;\n",
       "    }\n",
       "</style>\n",
       "<table border=\"1\" class=\"dataframe\">\n",
       "  <thead>\n",
       "    <tr style=\"text-align: right;\">\n",
       "      <th></th>\n",
       "      <th>userId</th>\n",
       "      <th>movieId</th>\n",
       "      <th>relevance</th>\n",
       "    </tr>\n",
       "  </thead>\n",
       "  <tbody>\n",
       "    <tr>\n",
       "      <th>0</th>\n",
       "      <td>27966</td>\n",
       "      <td>587</td>\n",
       "      <td>0.399896</td>\n",
       "    </tr>\n",
       "    <tr>\n",
       "      <th>4</th>\n",
       "      <td>27966</td>\n",
       "      <td>257</td>\n",
       "      <td>0.332636</td>\n",
       "    </tr>\n",
       "    <tr>\n",
       "      <th>5</th>\n",
       "      <td>27966</td>\n",
       "      <td>523</td>\n",
       "      <td>0.324421</td>\n",
       "    </tr>\n",
       "    <tr>\n",
       "      <th>6</th>\n",
       "      <td>27966</td>\n",
       "      <td>453</td>\n",
       "      <td>0.322380</td>\n",
       "    </tr>\n",
       "    <tr>\n",
       "      <th>7</th>\n",
       "      <td>27966</td>\n",
       "      <td>108</td>\n",
       "      <td>0.318300</td>\n",
       "    </tr>\n",
       "    <tr>\n",
       "      <th>8</th>\n",
       "      <td>27966</td>\n",
       "      <td>49</td>\n",
       "      <td>0.299819</td>\n",
       "    </tr>\n",
       "    <tr>\n",
       "      <th>9</th>\n",
       "      <td>27966</td>\n",
       "      <td>583</td>\n",
       "      <td>0.296912</td>\n",
       "    </tr>\n",
       "    <tr>\n",
       "      <th>12</th>\n",
       "      <td>29077</td>\n",
       "      <td>293</td>\n",
       "      <td>0.387833</td>\n",
       "    </tr>\n",
       "    <tr>\n",
       "      <th>13</th>\n",
       "      <td>29077</td>\n",
       "      <td>352</td>\n",
       "      <td>0.358094</td>\n",
       "    </tr>\n",
       "    <tr>\n",
       "      <th>14</th>\n",
       "      <td>29077</td>\n",
       "      <td>257</td>\n",
       "      <td>0.332636</td>\n",
       "    </tr>\n",
       "    <tr>\n",
       "      <th>16</th>\n",
       "      <td>29077</td>\n",
       "      <td>453</td>\n",
       "      <td>0.322380</td>\n",
       "    </tr>\n",
       "    <tr>\n",
       "      <th>19</th>\n",
       "      <td>29077</td>\n",
       "      <td>583</td>\n",
       "      <td>0.296912</td>\n",
       "    </tr>\n",
       "  </tbody>\n",
       "</table>\n",
       "</div>"
      ],
      "text/plain": [
       "    userId  movieId  relevance\n",
       "0    27966      587   0.399896\n",
       "4    27966      257   0.332636\n",
       "5    27966      523   0.324421\n",
       "6    27966      453   0.322380\n",
       "7    27966      108   0.318300\n",
       "8    27966       49   0.299819\n",
       "9    27966      583   0.296912\n",
       "12   29077      293   0.387833\n",
       "13   29077      352   0.358094\n",
       "14   29077      257   0.332636\n",
       "16   29077      453   0.322380\n",
       "19   29077      583   0.296912"
      ]
     },
     "execution_count": 41,
     "metadata": {},
     "output_type": "execute_result"
    }
   ],
   "source": [
    "pred_filter.head(12)"
   ]
  },
  {
   "cell_type": "code",
   "execution_count": 42,
   "metadata": {},
   "outputs": [
    {
     "name": "stdout",
     "output_type": "stream",
     "text": [
      "Silence of the Lambs, The (1991)\n",
      "Star Wars: Episode IV - A New Hope (1977)\n"
     ]
    }
   ],
   "source": [
    "print(df[df['movieId'] == 587]['title'].values[0])\n",
    "print(df[df['movieId'] == 257]['title'].values[0])"
   ]
  },
  {
   "cell_type": "markdown",
   "metadata": {},
   "source": [
    "Выглядит вполне правдоподобно. Посчитаем метрики."
   ]
  },
  {
   "cell_type": "code",
   "execution_count": 43,
   "metadata": {},
   "outputs": [
    {
     "name": "stdout",
     "output_type": "stream",
     "text": [
      "Wall time: 17.4 s\n"
     ]
    },
    {
     "data": {
      "text/html": [
       "<div>\n",
       "<style scoped>\n",
       "    .dataframe tbody tr th:only-of-type {\n",
       "        vertical-align: middle;\n",
       "    }\n",
       "\n",
       "    .dataframe tbody tr th {\n",
       "        vertical-align: top;\n",
       "    }\n",
       "\n",
       "    .dataframe thead th {\n",
       "        text-align: right;\n",
       "    }\n",
       "</style>\n",
       "<table border=\"1\" class=\"dataframe\">\n",
       "  <thead>\n",
       "    <tr style=\"text-align: right;\">\n",
       "      <th></th>\n",
       "      <th>hit_rate@10</th>\n",
       "      <th>map@10</th>\n",
       "      <th>coverage@10</th>\n",
       "      <th>surprisal@10</th>\n",
       "    </tr>\n",
       "  </thead>\n",
       "  <tbody>\n",
       "    <tr>\n",
       "      <th>Popular (filter)</th>\n",
       "      <td>0.158907</td>\n",
       "      <td>0.0136498</td>\n",
       "      <td>0.000730941</td>\n",
       "      <td>1.64473</td>\n",
       "    </tr>\n",
       "  </tbody>\n",
       "</table>\n",
       "</div>"
      ],
      "text/plain": [
       "                 hit_rate@10     map@10  coverage@10 surprisal@10\n",
       "Popular (filter)    0.158907  0.0136498  0.000730941      1.64473"
      ]
     },
     "execution_count": 43,
     "metadata": {},
     "output_type": "execute_result"
    }
   ],
   "source": [
    "%%time\n",
    "metrics_df = print_metrics(pred_filter, df_test, 'Popular (filter)')\n",
    "metrics_df"
   ]
  },
  {
   "cell_type": "markdown",
   "metadata": {},
   "source": [
    "Теперь попробуем убрать отсечение по ранее просмотренным фильмам - вдруг люди смотрят классику несколько раз."
   ]
  },
  {
   "cell_type": "code",
   "execution_count": 44,
   "metadata": {},
   "outputs": [
    {
     "name": "stdout",
     "output_type": "stream",
     "text": [
      "Wall time: 25 ms\n"
     ]
    }
   ],
   "source": [
    "%%time\n",
    "pred_no_filter = popular_model.predict(test_users, filter_seen=False)"
   ]
  },
  {
   "cell_type": "code",
   "execution_count": 45,
   "metadata": {},
   "outputs": [
    {
     "name": "stdout",
     "output_type": "stream",
     "text": [
      "Wall time: 18.5 s\n"
     ]
    },
    {
     "data": {
      "text/html": [
       "<div>\n",
       "<style scoped>\n",
       "    .dataframe tbody tr th:only-of-type {\n",
       "        vertical-align: middle;\n",
       "    }\n",
       "\n",
       "    .dataframe tbody tr th {\n",
       "        vertical-align: top;\n",
       "    }\n",
       "\n",
       "    .dataframe thead th {\n",
       "        text-align: right;\n",
       "    }\n",
       "</style>\n",
       "<table border=\"1\" class=\"dataframe\">\n",
       "  <thead>\n",
       "    <tr style=\"text-align: right;\">\n",
       "      <th></th>\n",
       "      <th>hit_rate@10</th>\n",
       "      <th>map@10</th>\n",
       "      <th>coverage@10</th>\n",
       "      <th>surprisal@10</th>\n",
       "    </tr>\n",
       "  </thead>\n",
       "  <tbody>\n",
       "    <tr>\n",
       "      <th>Popular (no filter)</th>\n",
       "      <td>0.158907</td>\n",
       "      <td>0.0105342</td>\n",
       "      <td>0.000730941</td>\n",
       "      <td>1.60186</td>\n",
       "    </tr>\n",
       "  </tbody>\n",
       "</table>\n",
       "</div>"
      ],
      "text/plain": [
       "                    hit_rate@10     map@10  coverage@10 surprisal@10\n",
       "Popular (no filter)    0.158907  0.0105342  0.000730941      1.60186"
      ]
     },
     "execution_count": 45,
     "metadata": {},
     "output_type": "execute_result"
    }
   ],
   "source": [
    "%%time\n",
    "metrics_df = print_metrics(pred_no_filter, df_test, 'Popular (no filter)')\n",
    "metrics_df"
   ]
  },
  {
   "cell_type": "markdown",
   "metadata": {},
   "source": [
    "Все-таки лучше убирать ранее просмотренные фильмы. Далее так и будем везде делать."
   ]
  },
  {
   "cell_type": "code",
   "execution_count": 46,
   "metadata": {},
   "outputs": [
    {
     "data": {
      "text/html": [
       "<div>\n",
       "<style scoped>\n",
       "    .dataframe tbody tr th:only-of-type {\n",
       "        vertical-align: middle;\n",
       "    }\n",
       "\n",
       "    .dataframe tbody tr th {\n",
       "        vertical-align: top;\n",
       "    }\n",
       "\n",
       "    .dataframe thead th {\n",
       "        text-align: right;\n",
       "    }\n",
       "</style>\n",
       "<table border=\"1\" class=\"dataframe\">\n",
       "  <thead>\n",
       "    <tr style=\"text-align: right;\">\n",
       "      <th></th>\n",
       "      <th>hit_rate@10</th>\n",
       "      <th>map@10</th>\n",
       "      <th>coverage@10</th>\n",
       "      <th>surprisal@10</th>\n",
       "    </tr>\n",
       "  </thead>\n",
       "  <tbody>\n",
       "    <tr>\n",
       "      <th>Popular</th>\n",
       "      <td>0.158907</td>\n",
       "      <td>0.0136498</td>\n",
       "      <td>0.000730941</td>\n",
       "      <td>1.64473</td>\n",
       "    </tr>\n",
       "  </tbody>\n",
       "</table>\n",
       "</div>"
      ],
      "text/plain": [
       "        hit_rate@10     map@10  coverage@10 surprisal@10\n",
       "Popular    0.158907  0.0136498  0.000730941      1.64473"
      ]
     },
     "execution_count": 46,
     "metadata": {},
     "output_type": "execute_result"
    }
   ],
   "source": [
    "metrics_df = print_metrics(pred_filter, df_test, 'Popular')\n",
    "metrics_df"
   ]
  },
  {
   "cell_type": "markdown",
   "metadata": {},
   "source": [
    "# 6. SVD."
   ]
  },
  {
   "cell_type": "markdown",
   "metadata": {},
   "source": [
    "Обучим SVD-разложение. Промежуточную размерность для описания пользователей и фильмов засунем в атрибут класса, при обучении попробуем использовать размерность, равную 32, а потом попробуем увеличить."
   ]
  },
  {
   "cell_type": "code",
   "execution_count": 47,
   "metadata": {},
   "outputs": [],
   "source": [
    "from scipy.sparse import csr_matrix\n",
    "from scipy.sparse.linalg import svds\n",
    "from tqdm import tqdm"
   ]
  },
  {
   "cell_type": "code",
   "execution_count": 48,
   "metadata": {},
   "outputs": [],
   "source": [
    "class SVDRecommender(BaseModel):\n",
    "    \n",
    "    def __init__(self, inner_rank):\n",
    "        self.inner_rank = inner_rank\n",
    "        self.k = 10\n",
    "    \n",
    "    \n",
    "    def fit(\n",
    "        self, log: pd.DataFrame, item_features: tp.Optional[pd.DataFrame]=None\n",
    "    ) -> 'SVDRecommender':\n",
    "        csr = csr_matrix((np.ones(log.shape[0]).astype(float), (log['userId'], log['movieId'])))\n",
    "        self.user_repr, self.singular_values, self.movie_repr = svds(csr, k=self.inner_rank)\n",
    "        self.singular = np.diag(self.singular_values)\n",
    "        return self\n",
    "    \n",
    "    \n",
    "    def _predict_user(\n",
    "        self, user_id: int\n",
    "    ):\n",
    "        user_relevance = self.user_repr[user_id, :] @ self.singular @ self.movie_repr\n",
    "        user_top_pred = np.flip(np.argpartition(user_relevance, -self.k)[-self.k:])\n",
    "        user_top_relevance = user_relevance[user_top_pred]\n",
    "        return user_top_pred, user_top_relevance\n",
    "        \n",
    "    \n",
    "    def _predict(\n",
    "        self, users: pd.Series, log: pd.DataFrame=df_train, item_features: tp.Optional[pd.DataFrame]=None\n",
    "    ) -> pd.DataFrame:\n",
    "        _users = pd.DataFrame(users).rename(columns={0: 'userId'})\n",
    "        predictions = pd.DataFrame(columns=['userId', 'movieId', 'relevance'])\n",
    "        for user in tqdm(_users['userId']):\n",
    "            user_top_pred, user_top_relevance = self._predict_user(user)\n",
    "            pred = pd.DataFrame({'userId': user,\n",
    "                                 'movieId': user_top_pred,\n",
    "                                 'relevance': user_top_relevance})\n",
    "            predictions = pd.concat([predictions, pred])\n",
    "\n",
    "        predictions = predictions.astype({'userId': 'int', 'movieId': 'int'})\n",
    "        return predictions"
   ]
  },
  {
   "cell_type": "code",
   "execution_count": 49,
   "metadata": {},
   "outputs": [
    {
     "name": "stdout",
     "output_type": "stream",
     "text": [
      "Wall time: 6.41 s\n"
     ]
    },
    {
     "data": {
      "text/plain": [
       "<__main__.SVDRecommender at 0x29885450748>"
      ]
     },
     "execution_count": 49,
     "metadata": {},
     "output_type": "execute_result"
    }
   ],
   "source": [
    "%%time\n",
    "svd_model32 = SVDRecommender(32)\n",
    "svd_model32.fit(df_train)"
   ]
  },
  {
   "cell_type": "code",
   "execution_count": 50,
   "metadata": {},
   "outputs": [
    {
     "name": "stderr",
     "output_type": "stream",
     "text": [
      "100%|█████████████████████████████████████████████████████████████████████████████| 3952/3952 [00:15<00:00, 251.40it/s]\n"
     ]
    }
   ],
   "source": [
    "pred32 = svd_model32.predict(users=test_users, filter_seen=True)"
   ]
  },
  {
   "cell_type": "code",
   "execution_count": 51,
   "metadata": {},
   "outputs": [
    {
     "data": {
      "text/html": [
       "<div>\n",
       "<style scoped>\n",
       "    .dataframe tbody tr th:only-of-type {\n",
       "        vertical-align: middle;\n",
       "    }\n",
       "\n",
       "    .dataframe tbody tr th {\n",
       "        vertical-align: top;\n",
       "    }\n",
       "\n",
       "    .dataframe thead th {\n",
       "        text-align: right;\n",
       "    }\n",
       "</style>\n",
       "<table border=\"1\" class=\"dataframe\">\n",
       "  <thead>\n",
       "    <tr style=\"text-align: right;\">\n",
       "      <th></th>\n",
       "      <th>userId</th>\n",
       "      <th>movieId</th>\n",
       "      <th>relevance</th>\n",
       "    </tr>\n",
       "  </thead>\n",
       "  <tbody>\n",
       "    <tr>\n",
       "      <th>6</th>\n",
       "      <td>27966</td>\n",
       "      <td>6764</td>\n",
       "      <td>0.663776</td>\n",
       "    </tr>\n",
       "    <tr>\n",
       "      <th>7</th>\n",
       "      <td>27966</td>\n",
       "      <td>7312</td>\n",
       "      <td>0.623092</td>\n",
       "    </tr>\n",
       "    <tr>\n",
       "      <th>12</th>\n",
       "      <td>29077</td>\n",
       "      <td>1169</td>\n",
       "      <td>0.768673</td>\n",
       "    </tr>\n",
       "    <tr>\n",
       "      <th>33</th>\n",
       "      <td>108752</td>\n",
       "      <td>373</td>\n",
       "      <td>0.468920</td>\n",
       "    </tr>\n",
       "    <tr>\n",
       "      <th>35</th>\n",
       "      <td>108752</td>\n",
       "      <td>1184</td>\n",
       "      <td>0.366940</td>\n",
       "    </tr>\n",
       "    <tr>\n",
       "      <th>46</th>\n",
       "      <td>119876</td>\n",
       "      <td>7041</td>\n",
       "      <td>0.954524</td>\n",
       "    </tr>\n",
       "    <tr>\n",
       "      <th>63</th>\n",
       "      <td>15133</td>\n",
       "      <td>1184</td>\n",
       "      <td>0.812543</td>\n",
       "    </tr>\n",
       "    <tr>\n",
       "      <th>92</th>\n",
       "      <td>22378</td>\n",
       "      <td>1212</td>\n",
       "      <td>0.499100</td>\n",
       "    </tr>\n",
       "    <tr>\n",
       "      <th>97</th>\n",
       "      <td>22378</td>\n",
       "      <td>31</td>\n",
       "      <td>0.336394</td>\n",
       "    </tr>\n",
       "    <tr>\n",
       "      <th>99</th>\n",
       "      <td>22378</td>\n",
       "      <td>1480</td>\n",
       "      <td>0.290374</td>\n",
       "    </tr>\n",
       "    <tr>\n",
       "      <th>119</th>\n",
       "      <td>55594</td>\n",
       "      <td>1182</td>\n",
       "      <td>0.850754</td>\n",
       "    </tr>\n",
       "    <tr>\n",
       "      <th>124</th>\n",
       "      <td>61297</td>\n",
       "      <td>843</td>\n",
       "      <td>0.631908</td>\n",
       "    </tr>\n",
       "  </tbody>\n",
       "</table>\n",
       "</div>"
      ],
      "text/plain": [
       "     userId  movieId  relevance\n",
       "6     27966     6764   0.663776\n",
       "7     27966     7312   0.623092\n",
       "12    29077     1169   0.768673\n",
       "33   108752      373   0.468920\n",
       "35   108752     1184   0.366940\n",
       "46   119876     7041   0.954524\n",
       "63    15133     1184   0.812543\n",
       "92    22378     1212   0.499100\n",
       "97    22378       31   0.336394\n",
       "99    22378     1480   0.290374\n",
       "119   55594     1182   0.850754\n",
       "124   61297      843   0.631908"
      ]
     },
     "execution_count": 51,
     "metadata": {},
     "output_type": "execute_result"
    }
   ],
   "source": [
    "pred32.head(12)"
   ]
  },
  {
   "cell_type": "code",
   "execution_count": 52,
   "metadata": {},
   "outputs": [
    {
     "name": "stdout",
     "output_type": "stream",
     "text": [
      "Kill Bill: Vol. 1 (2003)\n",
      "Kill Bill: Vol. 2 (2004)\n"
     ]
    }
   ],
   "source": [
    "print(df[df['movieId'] == 6764]['title'].values[0])\n",
    "print(df[df['movieId'] == 7312]['title'].values[0])"
   ]
  },
  {
   "cell_type": "markdown",
   "metadata": {},
   "source": [
    "Посчитаем метрики."
   ]
  },
  {
   "cell_type": "code",
   "execution_count": 53,
   "metadata": {},
   "outputs": [
    {
     "name": "stdout",
     "output_type": "stream",
     "text": [
      "Wall time: 17.1 s\n"
     ]
    },
    {
     "data": {
      "text/html": [
       "<div>\n",
       "<style scoped>\n",
       "    .dataframe tbody tr th:only-of-type {\n",
       "        vertical-align: middle;\n",
       "    }\n",
       "\n",
       "    .dataframe tbody tr th {\n",
       "        vertical-align: top;\n",
       "    }\n",
       "\n",
       "    .dataframe thead th {\n",
       "        text-align: right;\n",
       "    }\n",
       "</style>\n",
       "<table border=\"1\" class=\"dataframe\">\n",
       "  <thead>\n",
       "    <tr style=\"text-align: right;\">\n",
       "      <th></th>\n",
       "      <th>hit_rate@10</th>\n",
       "      <th>map@10</th>\n",
       "      <th>coverage@10</th>\n",
       "      <th>surprisal@10</th>\n",
       "    </tr>\n",
       "  </thead>\n",
       "  <tbody>\n",
       "    <tr>\n",
       "      <th>SVD (32)</th>\n",
       "      <td>0.0976721</td>\n",
       "      <td>0.00767189</td>\n",
       "      <td>0.0249251</td>\n",
       "      <td>2.48481</td>\n",
       "    </tr>\n",
       "  </tbody>\n",
       "</table>\n",
       "</div>"
      ],
      "text/plain": [
       "         hit_rate@10      map@10 coverage@10 surprisal@10\n",
       "SVD (32)   0.0976721  0.00767189   0.0249251      2.48481"
      ]
     },
     "execution_count": 53,
     "metadata": {},
     "output_type": "execute_result"
    }
   ],
   "source": [
    "%%time\n",
    "metrics_svd32 = print_metrics(pred32, df_test, 'SVD (32)')\n",
    "metrics_svd32"
   ]
  },
  {
   "cell_type": "markdown",
   "metadata": {},
   "source": [
    "Увеличим размерность промежуточного представления до 64."
   ]
  },
  {
   "cell_type": "code",
   "execution_count": 54,
   "metadata": {},
   "outputs": [
    {
     "name": "stderr",
     "output_type": "stream",
     "text": [
      "100%|█████████████████████████████████████████████████████████████████████████████| 3952/3952 [00:16<00:00, 237.70it/s]\n"
     ]
    },
    {
     "data": {
      "text/html": [
       "<div>\n",
       "<style scoped>\n",
       "    .dataframe tbody tr th:only-of-type {\n",
       "        vertical-align: middle;\n",
       "    }\n",
       "\n",
       "    .dataframe tbody tr th {\n",
       "        vertical-align: top;\n",
       "    }\n",
       "\n",
       "    .dataframe thead th {\n",
       "        text-align: right;\n",
       "    }\n",
       "</style>\n",
       "<table border=\"1\" class=\"dataframe\">\n",
       "  <thead>\n",
       "    <tr style=\"text-align: right;\">\n",
       "      <th></th>\n",
       "      <th>userId</th>\n",
       "      <th>movieId</th>\n",
       "      <th>relevance</th>\n",
       "    </tr>\n",
       "  </thead>\n",
       "  <tbody>\n",
       "    <tr>\n",
       "      <th>16</th>\n",
       "      <td>29077</td>\n",
       "      <td>887</td>\n",
       "      <td>0.923611</td>\n",
       "    </tr>\n",
       "    <tr>\n",
       "      <th>38</th>\n",
       "      <td>108752</td>\n",
       "      <td>1263</td>\n",
       "      <td>0.419228</td>\n",
       "    </tr>\n",
       "    <tr>\n",
       "      <th>39</th>\n",
       "      <td>108752</td>\n",
       "      <td>373</td>\n",
       "      <td>0.394373</td>\n",
       "    </tr>\n",
       "    <tr>\n",
       "      <th>63</th>\n",
       "      <td>15133</td>\n",
       "      <td>1125</td>\n",
       "      <td>0.829430</td>\n",
       "    </tr>\n",
       "    <tr>\n",
       "      <th>95</th>\n",
       "      <td>22378</td>\n",
       "      <td>1212</td>\n",
       "      <td>0.624157</td>\n",
       "    </tr>\n",
       "    <tr>\n",
       "      <th>99</th>\n",
       "      <td>22378</td>\n",
       "      <td>1480</td>\n",
       "      <td>0.349570</td>\n",
       "    </tr>\n",
       "    <tr>\n",
       "      <th>119</th>\n",
       "      <td>55594</td>\n",
       "      <td>1182</td>\n",
       "      <td>0.963714</td>\n",
       "    </tr>\n",
       "    <tr>\n",
       "      <th>160</th>\n",
       "      <td>76836</td>\n",
       "      <td>7041</td>\n",
       "      <td>0.440009</td>\n",
       "    </tr>\n",
       "    <tr>\n",
       "      <th>165</th>\n",
       "      <td>76836</td>\n",
       "      <td>5853</td>\n",
       "      <td>0.414785</td>\n",
       "    </tr>\n",
       "    <tr>\n",
       "      <th>169</th>\n",
       "      <td>76836</td>\n",
       "      <td>1480</td>\n",
       "      <td>0.304627</td>\n",
       "    </tr>\n",
       "    <tr>\n",
       "      <th>174</th>\n",
       "      <td>80090</td>\n",
       "      <td>2244</td>\n",
       "      <td>0.483898</td>\n",
       "    </tr>\n",
       "    <tr>\n",
       "      <th>175</th>\n",
       "      <td>80090</td>\n",
       "      <td>1067</td>\n",
       "      <td>0.451767</td>\n",
       "    </tr>\n",
       "  </tbody>\n",
       "</table>\n",
       "</div>"
      ],
      "text/plain": [
       "     userId  movieId  relevance\n",
       "16    29077      887   0.923611\n",
       "38   108752     1263   0.419228\n",
       "39   108752      373   0.394373\n",
       "63    15133     1125   0.829430\n",
       "95    22378     1212   0.624157\n",
       "99    22378     1480   0.349570\n",
       "119   55594     1182   0.963714\n",
       "160   76836     7041   0.440009\n",
       "165   76836     5853   0.414785\n",
       "169   76836     1480   0.304627\n",
       "174   80090     2244   0.483898\n",
       "175   80090     1067   0.451767"
      ]
     },
     "execution_count": 54,
     "metadata": {},
     "output_type": "execute_result"
    }
   ],
   "source": [
    "svd_model64 = SVDRecommender(64)\n",
    "svd_model64.fit(df_train)\n",
    "\n",
    "pred64 = svd_model64.predict(users=test_users, filter_seen=True)\n",
    "\n",
    "pred64.head(12)"
   ]
  },
  {
   "cell_type": "code",
   "execution_count": 55,
   "metadata": {},
   "outputs": [
    {
     "name": "stdout",
     "output_type": "stream",
     "text": [
      "Wall time: 18.9 s\n"
     ]
    },
    {
     "data": {
      "text/html": [
       "<div>\n",
       "<style scoped>\n",
       "    .dataframe tbody tr th:only-of-type {\n",
       "        vertical-align: middle;\n",
       "    }\n",
       "\n",
       "    .dataframe tbody tr th {\n",
       "        vertical-align: top;\n",
       "    }\n",
       "\n",
       "    .dataframe thead th {\n",
       "        text-align: right;\n",
       "    }\n",
       "</style>\n",
       "<table border=\"1\" class=\"dataframe\">\n",
       "  <thead>\n",
       "    <tr style=\"text-align: right;\">\n",
       "      <th></th>\n",
       "      <th>hit_rate@10</th>\n",
       "      <th>map@10</th>\n",
       "      <th>coverage@10</th>\n",
       "      <th>surprisal@10</th>\n",
       "    </tr>\n",
       "  </thead>\n",
       "  <tbody>\n",
       "    <tr>\n",
       "      <th>SVD (64)</th>\n",
       "      <td>0.0511134</td>\n",
       "      <td>0.00388688</td>\n",
       "      <td>0.0296762</td>\n",
       "      <td>2.88857</td>\n",
       "    </tr>\n",
       "  </tbody>\n",
       "</table>\n",
       "</div>"
      ],
      "text/plain": [
       "         hit_rate@10      map@10 coverage@10 surprisal@10\n",
       "SVD (64)   0.0511134  0.00388688   0.0296762      2.88857"
      ]
     },
     "execution_count": 55,
     "metadata": {},
     "output_type": "execute_result"
    }
   ],
   "source": [
    "%%time\n",
    "metrics_svd64 = print_metrics(pred64, df_test, 'SVD (64)')\n",
    "metrics_svd64"
   ]
  },
  {
   "cell_type": "markdown",
   "metadata": {},
   "source": [
    "Получили, что увеличение размерности только ухудшает и так невысокое качество рекомендаций. Да и SVD сама по себе не очень хорошая модель."
   ]
  },
  {
   "cell_type": "code",
   "execution_count": 56,
   "metadata": {},
   "outputs": [
    {
     "data": {
      "text/html": [
       "<div>\n",
       "<style scoped>\n",
       "    .dataframe tbody tr th:only-of-type {\n",
       "        vertical-align: middle;\n",
       "    }\n",
       "\n",
       "    .dataframe tbody tr th {\n",
       "        vertical-align: top;\n",
       "    }\n",
       "\n",
       "    .dataframe thead th {\n",
       "        text-align: right;\n",
       "    }\n",
       "</style>\n",
       "<table border=\"1\" class=\"dataframe\">\n",
       "  <thead>\n",
       "    <tr style=\"text-align: right;\">\n",
       "      <th></th>\n",
       "      <th>hit_rate@10</th>\n",
       "      <th>map@10</th>\n",
       "      <th>coverage@10</th>\n",
       "      <th>surprisal@10</th>\n",
       "    </tr>\n",
       "  </thead>\n",
       "  <tbody>\n",
       "    <tr>\n",
       "      <th>Popular</th>\n",
       "      <td>0.158907</td>\n",
       "      <td>0.0136498</td>\n",
       "      <td>0.000730941</td>\n",
       "      <td>1.64473</td>\n",
       "    </tr>\n",
       "    <tr>\n",
       "      <th>SVD (32)</th>\n",
       "      <td>0.0976721</td>\n",
       "      <td>0.00767189</td>\n",
       "      <td>0.0249251</td>\n",
       "      <td>2.48481</td>\n",
       "    </tr>\n",
       "  </tbody>\n",
       "</table>\n",
       "</div>"
      ],
      "text/plain": [
       "         hit_rate@10      map@10  coverage@10 surprisal@10\n",
       "Popular     0.158907   0.0136498  0.000730941      1.64473\n",
       "SVD (32)   0.0976721  0.00767189    0.0249251      2.48481"
      ]
     },
     "execution_count": 56,
     "metadata": {},
     "output_type": "execute_result"
    }
   ],
   "source": [
    "metrics_df = print_metrics(pred32, df_test, 'SVD (32)', metrics_df=metrics_df)\n",
    "metrics_df"
   ]
  },
  {
   "cell_type": "markdown",
   "metadata": {},
   "source": [
    "# 7. Implicit ALS."
   ]
  },
  {
   "cell_type": "markdown",
   "metadata": {},
   "source": [
    "Обучим Implicit ALS, реализацию возьмем в библиотеке Implicit."
   ]
  },
  {
   "cell_type": "code",
   "execution_count": 57,
   "metadata": {},
   "outputs": [],
   "source": [
    "# !pip install implicit\n",
    "from implicit.als import AlternatingLeastSquares as ALS"
   ]
  },
  {
   "cell_type": "code",
   "execution_count": 58,
   "metadata": {},
   "outputs": [],
   "source": [
    "class ALSRecommender(BaseModel):\n",
    "    \n",
    "    def __init__(self, factors=100, regularization=0.01, iterations=15):\n",
    "        self.k = 10\n",
    "        self.ALS = ALS(factors=factors, regularization=regularization, iterations=iterations)\n",
    "    \n",
    "    \n",
    "    def fit(\n",
    "        self, log: pd.DataFrame, item_features: tp.Optional[pd.DataFrame]=None\n",
    "    ) -> 'ALSRecommender':\n",
    "        self.csr = csr_matrix((np.ones(log.shape[0]).astype(float), (log['userId'], log['movieId'])))\n",
    "        self.ALS.fit(self.csr)\n",
    "        return self\n",
    "    \n",
    "    \n",
    "    def _predict_user(\n",
    "        self, user_id: int\n",
    "    ):\n",
    "        return self.ALS.recommend(user_id, self.csr[user_id])\n",
    "        \n",
    "    \n",
    "    def _predict(\n",
    "        self, users: pd.Series, log: pd.DataFrame=df_train, item_features: tp.Optional[pd.DataFrame]=None\n",
    "    ) -> pd.DataFrame:\n",
    "        _users = pd.DataFrame(users).rename(columns={0: 'userId'})\n",
    "        predictions = pd.DataFrame(columns=['userId', 'movieId', 'relevance'])\n",
    "        for user in tqdm(_users['userId']):\n",
    "            user_top_pred, user_top_relevance = self._predict_user(user)\n",
    "            pred = pd.DataFrame({'userId': user,\n",
    "                                 'movieId': user_top_pred,\n",
    "                                 'relevance': user_top_relevance})\n",
    "            predictions = pd.concat([predictions, pred])\n",
    "\n",
    "        predictions = predictions.astype({'userId': 'int', 'movieId': 'int'})\n",
    "        return predictions"
   ]
  },
  {
   "cell_type": "code",
   "execution_count": 59,
   "metadata": {},
   "outputs": [
    {
     "name": "stderr",
     "output_type": "stream",
     "text": [
      "C:\\Users\\koh-i\\anaconda3\\lib\\site-packages\\implicit\\utils.py:32: UserWarning: Intel MKL BLAS detected. Its highly recommend to set the environment variable 'export MKL_NUM_THREADS=1' to disable its internal multithreading\n",
      "  \"Intel MKL BLAS detected. Its highly recommend to set the environment \"\n"
     ]
    },
    {
     "data": {
      "application/vnd.jupyter.widget-view+json": {
       "model_id": "6f1f80b574b046648bbf276647c54030",
       "version_major": 2,
       "version_minor": 0
      },
      "text/plain": [
       "HBox(children=(FloatProgress(value=0.0, max=20.0), HTML(value='')))"
      ]
     },
     "metadata": {},
     "output_type": "display_data"
    },
    {
     "name": "stdout",
     "output_type": "stream",
     "text": [
      "\n"
     ]
    },
    {
     "data": {
      "text/plain": [
       "<__main__.ALSRecommender at 0x29885893508>"
      ]
     },
     "execution_count": 59,
     "metadata": {},
     "output_type": "execute_result"
    }
   ],
   "source": [
    "als_model50 = ALSRecommender(factors=50, iterations=20)\n",
    "als_model50.fit(df_train)"
   ]
  },
  {
   "cell_type": "code",
   "execution_count": 60,
   "metadata": {},
   "outputs": [
    {
     "name": "stderr",
     "output_type": "stream",
     "text": [
      "100%|█████████████████████████████████████████████████████████████████████████████| 3952/3952 [00:26<00:00, 146.48it/s]\n"
     ]
    }
   ],
   "source": [
    "pred50 = als_model50.predict(users=test_users, filter_seen=True)"
   ]
  },
  {
   "cell_type": "code",
   "execution_count": 61,
   "metadata": {},
   "outputs": [
    {
     "data": {
      "text/html": [
       "<div>\n",
       "<style scoped>\n",
       "    .dataframe tbody tr th:only-of-type {\n",
       "        vertical-align: middle;\n",
       "    }\n",
       "\n",
       "    .dataframe tbody tr th {\n",
       "        vertical-align: top;\n",
       "    }\n",
       "\n",
       "    .dataframe thead th {\n",
       "        text-align: right;\n",
       "    }\n",
       "</style>\n",
       "<table border=\"1\" class=\"dataframe\">\n",
       "  <thead>\n",
       "    <tr style=\"text-align: right;\">\n",
       "      <th></th>\n",
       "      <th>userId</th>\n",
       "      <th>movieId</th>\n",
       "      <th>relevance</th>\n",
       "    </tr>\n",
       "  </thead>\n",
       "  <tbody>\n",
       "    <tr>\n",
       "      <th>0</th>\n",
       "      <td>27966</td>\n",
       "      <td>6764</td>\n",
       "      <td>0.671913</td>\n",
       "    </tr>\n",
       "    <tr>\n",
       "      <th>1</th>\n",
       "      <td>27966</td>\n",
       "      <td>7312</td>\n",
       "      <td>0.630956</td>\n",
       "    </tr>\n",
       "    <tr>\n",
       "      <th>2</th>\n",
       "      <td>27966</td>\n",
       "      <td>4782</td>\n",
       "      <td>0.566670</td>\n",
       "    </tr>\n",
       "    <tr>\n",
       "      <th>3</th>\n",
       "      <td>27966</td>\n",
       "      <td>4132</td>\n",
       "      <td>0.474944</td>\n",
       "    </tr>\n",
       "    <tr>\n",
       "      <th>4</th>\n",
       "      <td>27966</td>\n",
       "      <td>7041</td>\n",
       "      <td>0.452184</td>\n",
       "    </tr>\n",
       "    <tr>\n",
       "      <th>5</th>\n",
       "      <td>27966</td>\n",
       "      <td>10160</td>\n",
       "      <td>0.446405</td>\n",
       "    </tr>\n",
       "    <tr>\n",
       "      <th>6</th>\n",
       "      <td>27966</td>\n",
       "      <td>10055</td>\n",
       "      <td>0.417885</td>\n",
       "    </tr>\n",
       "    <tr>\n",
       "      <th>7</th>\n",
       "      <td>27966</td>\n",
       "      <td>10877</td>\n",
       "      <td>0.398800</td>\n",
       "    </tr>\n",
       "    <tr>\n",
       "      <th>8</th>\n",
       "      <td>27966</td>\n",
       "      <td>7035</td>\n",
       "      <td>0.377593</td>\n",
       "    </tr>\n",
       "    <tr>\n",
       "      <th>9</th>\n",
       "      <td>27966</td>\n",
       "      <td>8101</td>\n",
       "      <td>0.369262</td>\n",
       "    </tr>\n",
       "    <tr>\n",
       "      <th>10</th>\n",
       "      <td>29077</td>\n",
       "      <td>887</td>\n",
       "      <td>0.926555</td>\n",
       "    </tr>\n",
       "    <tr>\n",
       "      <th>11</th>\n",
       "      <td>29077</td>\n",
       "      <td>1169</td>\n",
       "      <td>0.827348</td>\n",
       "    </tr>\n",
       "  </tbody>\n",
       "</table>\n",
       "</div>"
      ],
      "text/plain": [
       "    userId  movieId  relevance\n",
       "0    27966     6764   0.671913\n",
       "1    27966     7312   0.630956\n",
       "2    27966     4782   0.566670\n",
       "3    27966     4132   0.474944\n",
       "4    27966     7041   0.452184\n",
       "5    27966    10160   0.446405\n",
       "6    27966    10055   0.417885\n",
       "7    27966    10877   0.398800\n",
       "8    27966     7035   0.377593\n",
       "9    27966     8101   0.369262\n",
       "10   29077      887   0.926555\n",
       "11   29077     1169   0.827348"
      ]
     },
     "execution_count": 61,
     "metadata": {},
     "output_type": "execute_result"
    }
   ],
   "source": [
    "pred50.head(12)"
   ]
  },
  {
   "cell_type": "code",
   "execution_count": 62,
   "metadata": {},
   "outputs": [
    {
     "name": "stdout",
     "output_type": "stream",
     "text": [
      "Kill Bill: Vol. 1 (2003)\n",
      "Kill Bill: Vol. 2 (2004)\n"
     ]
    }
   ],
   "source": [
    "print(df[df['movieId'] == 6764]['title'].values[0])\n",
    "print(df[df['movieId'] == 7312]['title'].values[0])"
   ]
  },
  {
   "cell_type": "markdown",
   "metadata": {},
   "source": [
    "Посчитаем метрики."
   ]
  },
  {
   "cell_type": "code",
   "execution_count": 63,
   "metadata": {},
   "outputs": [
    {
     "name": "stdout",
     "output_type": "stream",
     "text": [
      "Wall time: 18.6 s\n"
     ]
    },
    {
     "data": {
      "text/html": [
       "<div>\n",
       "<style scoped>\n",
       "    .dataframe tbody tr th:only-of-type {\n",
       "        vertical-align: middle;\n",
       "    }\n",
       "\n",
       "    .dataframe tbody tr th {\n",
       "        vertical-align: top;\n",
       "    }\n",
       "\n",
       "    .dataframe thead th {\n",
       "        text-align: right;\n",
       "    }\n",
       "</style>\n",
       "<table border=\"1\" class=\"dataframe\">\n",
       "  <thead>\n",
       "    <tr style=\"text-align: right;\">\n",
       "      <th></th>\n",
       "      <th>hit_rate@10</th>\n",
       "      <th>map@10</th>\n",
       "      <th>coverage@10</th>\n",
       "      <th>surprisal@10</th>\n",
       "    </tr>\n",
       "  </thead>\n",
       "  <tbody>\n",
       "    <tr>\n",
       "      <th>ALS (50)</th>\n",
       "      <td>0.270749</td>\n",
       "      <td>0.0152674</td>\n",
       "      <td>0.0486807</td>\n",
       "      <td>3.15516</td>\n",
       "    </tr>\n",
       "  </tbody>\n",
       "</table>\n",
       "</div>"
      ],
      "text/plain": [
       "         hit_rate@10     map@10 coverage@10 surprisal@10\n",
       "ALS (50)    0.270749  0.0152674   0.0486807      3.15516"
      ]
     },
     "execution_count": 63,
     "metadata": {},
     "output_type": "execute_result"
    }
   ],
   "source": [
    "%%time\n",
    "metrics_als50 = print_metrics(pred50, df_test, 'ALS (50)')\n",
    "metrics_als50"
   ]
  },
  {
   "cell_type": "markdown",
   "metadata": {},
   "source": [
    "Теперь попробуем увеличить число латентных переменных - возьмем 100."
   ]
  },
  {
   "cell_type": "code",
   "execution_count": 64,
   "metadata": {},
   "outputs": [
    {
     "data": {
      "application/vnd.jupyter.widget-view+json": {
       "model_id": "07650da423714bcebe0d7ae765e072f5",
       "version_major": 2,
       "version_minor": 0
      },
      "text/plain": [
       "HBox(children=(FloatProgress(value=0.0, max=20.0), HTML(value='')))"
      ]
     },
     "metadata": {},
     "output_type": "display_data"
    },
    {
     "name": "stderr",
     "output_type": "stream",
     "text": [
      "  0%|▏                                                                              | 11/3952 [00:00<00:36, 106.80it/s]"
     ]
    },
    {
     "name": "stdout",
     "output_type": "stream",
     "text": [
      "\n"
     ]
    },
    {
     "name": "stderr",
     "output_type": "stream",
     "text": [
      "100%|█████████████████████████████████████████████████████████████████████████████| 3952/3952 [00:26<00:00, 151.95it/s]\n"
     ]
    },
    {
     "data": {
      "text/html": [
       "<div>\n",
       "<style scoped>\n",
       "    .dataframe tbody tr th:only-of-type {\n",
       "        vertical-align: middle;\n",
       "    }\n",
       "\n",
       "    .dataframe tbody tr th {\n",
       "        vertical-align: top;\n",
       "    }\n",
       "\n",
       "    .dataframe thead th {\n",
       "        text-align: right;\n",
       "    }\n",
       "</style>\n",
       "<table border=\"1\" class=\"dataframe\">\n",
       "  <thead>\n",
       "    <tr style=\"text-align: right;\">\n",
       "      <th></th>\n",
       "      <th>userId</th>\n",
       "      <th>movieId</th>\n",
       "      <th>relevance</th>\n",
       "    </tr>\n",
       "  </thead>\n",
       "  <tbody>\n",
       "    <tr>\n",
       "      <th>0</th>\n",
       "      <td>27966</td>\n",
       "      <td>6764</td>\n",
       "      <td>0.597086</td>\n",
       "    </tr>\n",
       "    <tr>\n",
       "      <th>1</th>\n",
       "      <td>27966</td>\n",
       "      <td>7312</td>\n",
       "      <td>0.557837</td>\n",
       "    </tr>\n",
       "    <tr>\n",
       "      <th>2</th>\n",
       "      <td>27966</td>\n",
       "      <td>10055</td>\n",
       "      <td>0.487228</td>\n",
       "    </tr>\n",
       "    <tr>\n",
       "      <th>3</th>\n",
       "      <td>27966</td>\n",
       "      <td>10160</td>\n",
       "      <td>0.476908</td>\n",
       "    </tr>\n",
       "    <tr>\n",
       "      <th>4</th>\n",
       "      <td>27966</td>\n",
       "      <td>10877</td>\n",
       "      <td>0.462101</td>\n",
       "    </tr>\n",
       "    <tr>\n",
       "      <th>5</th>\n",
       "      <td>27966</td>\n",
       "      <td>4132</td>\n",
       "      <td>0.434429</td>\n",
       "    </tr>\n",
       "    <tr>\n",
       "      <th>6</th>\n",
       "      <td>27966</td>\n",
       "      <td>4782</td>\n",
       "      <td>0.422582</td>\n",
       "    </tr>\n",
       "    <tr>\n",
       "      <th>7</th>\n",
       "      <td>27966</td>\n",
       "      <td>4899</td>\n",
       "      <td>0.395032</td>\n",
       "    </tr>\n",
       "    <tr>\n",
       "      <th>8</th>\n",
       "      <td>27966</td>\n",
       "      <td>7035</td>\n",
       "      <td>0.380345</td>\n",
       "    </tr>\n",
       "    <tr>\n",
       "      <th>9</th>\n",
       "      <td>27966</td>\n",
       "      <td>8101</td>\n",
       "      <td>0.375529</td>\n",
       "    </tr>\n",
       "    <tr>\n",
       "      <th>10</th>\n",
       "      <td>29077</td>\n",
       "      <td>887</td>\n",
       "      <td>0.828625</td>\n",
       "    </tr>\n",
       "    <tr>\n",
       "      <th>11</th>\n",
       "      <td>29077</td>\n",
       "      <td>906</td>\n",
       "      <td>0.704495</td>\n",
       "    </tr>\n",
       "  </tbody>\n",
       "</table>\n",
       "</div>"
      ],
      "text/plain": [
       "    userId  movieId  relevance\n",
       "0    27966     6764   0.597086\n",
       "1    27966     7312   0.557837\n",
       "2    27966    10055   0.487228\n",
       "3    27966    10160   0.476908\n",
       "4    27966    10877   0.462101\n",
       "5    27966     4132   0.434429\n",
       "6    27966     4782   0.422582\n",
       "7    27966     4899   0.395032\n",
       "8    27966     7035   0.380345\n",
       "9    27966     8101   0.375529\n",
       "10   29077      887   0.828625\n",
       "11   29077      906   0.704495"
      ]
     },
     "execution_count": 64,
     "metadata": {},
     "output_type": "execute_result"
    }
   ],
   "source": [
    "als_model100 = ALSRecommender(factors=100, iterations=20)\n",
    "als_model100.fit(df_train)\n",
    "\n",
    "pred100 = als_model100.predict(users=test_users, filter_seen=True)\n",
    "\n",
    "pred100.head(12)"
   ]
  },
  {
   "cell_type": "code",
   "execution_count": 65,
   "metadata": {},
   "outputs": [
    {
     "name": "stdout",
     "output_type": "stream",
     "text": [
      "Wall time: 15.5 s\n"
     ]
    },
    {
     "data": {
      "text/html": [
       "<div>\n",
       "<style scoped>\n",
       "    .dataframe tbody tr th:only-of-type {\n",
       "        vertical-align: middle;\n",
       "    }\n",
       "\n",
       "    .dataframe tbody tr th {\n",
       "        vertical-align: top;\n",
       "    }\n",
       "\n",
       "    .dataframe thead th {\n",
       "        text-align: right;\n",
       "    }\n",
       "</style>\n",
       "<table border=\"1\" class=\"dataframe\">\n",
       "  <thead>\n",
       "    <tr style=\"text-align: right;\">\n",
       "      <th></th>\n",
       "      <th>hit_rate@10</th>\n",
       "      <th>map@10</th>\n",
       "      <th>coverage@10</th>\n",
       "      <th>surprisal@10</th>\n",
       "    </tr>\n",
       "  </thead>\n",
       "  <tbody>\n",
       "    <tr>\n",
       "      <th>ALS (100)</th>\n",
       "      <td>0.25835</td>\n",
       "      <td>0.0136008</td>\n",
       "      <td>0.059864</td>\n",
       "      <td>3.50045</td>\n",
       "    </tr>\n",
       "  </tbody>\n",
       "</table>\n",
       "</div>"
      ],
      "text/plain": [
       "          hit_rate@10     map@10 coverage@10 surprisal@10\n",
       "ALS (100)     0.25835  0.0136008    0.059864      3.50045"
      ]
     },
     "execution_count": 65,
     "metadata": {},
     "output_type": "execute_result"
    }
   ],
   "source": [
    "%%time\n",
    "metrics_als100 = print_metrics(pred100, df_test, 'ALS (100)')\n",
    "metrics_als100"
   ]
  },
  {
   "cell_type": "markdown",
   "metadata": {},
   "source": [
    "С точки зрения основных метрик никакого улучшения не произошло. Немного вырос coverage и surprisal, но судя по верхней части рекомендаций, они особо не поменялись, разве что изменился порядок релевантности фильмо внутри пользователей."
   ]
  },
  {
   "cell_type": "code",
   "execution_count": 66,
   "metadata": {},
   "outputs": [
    {
     "data": {
      "text/html": [
       "<div>\n",
       "<style scoped>\n",
       "    .dataframe tbody tr th:only-of-type {\n",
       "        vertical-align: middle;\n",
       "    }\n",
       "\n",
       "    .dataframe tbody tr th {\n",
       "        vertical-align: top;\n",
       "    }\n",
       "\n",
       "    .dataframe thead th {\n",
       "        text-align: right;\n",
       "    }\n",
       "</style>\n",
       "<table border=\"1\" class=\"dataframe\">\n",
       "  <thead>\n",
       "    <tr style=\"text-align: right;\">\n",
       "      <th></th>\n",
       "      <th>hit_rate@10</th>\n",
       "      <th>map@10</th>\n",
       "      <th>coverage@10</th>\n",
       "      <th>surprisal@10</th>\n",
       "    </tr>\n",
       "  </thead>\n",
       "  <tbody>\n",
       "    <tr>\n",
       "      <th>Popular</th>\n",
       "      <td>0.158907</td>\n",
       "      <td>0.0136498</td>\n",
       "      <td>0.000730941</td>\n",
       "      <td>1.64473</td>\n",
       "    </tr>\n",
       "    <tr>\n",
       "      <th>SVD (32)</th>\n",
       "      <td>0.0976721</td>\n",
       "      <td>0.00767189</td>\n",
       "      <td>0.0249251</td>\n",
       "      <td>2.48481</td>\n",
       "    </tr>\n",
       "    <tr>\n",
       "      <th>ALS (50)</th>\n",
       "      <td>0.270749</td>\n",
       "      <td>0.0152674</td>\n",
       "      <td>0.0486807</td>\n",
       "      <td>3.15516</td>\n",
       "    </tr>\n",
       "  </tbody>\n",
       "</table>\n",
       "</div>"
      ],
      "text/plain": [
       "         hit_rate@10      map@10  coverage@10 surprisal@10\n",
       "Popular     0.158907   0.0136498  0.000730941      1.64473\n",
       "SVD (32)   0.0976721  0.00767189    0.0249251      2.48481\n",
       "ALS (50)    0.270749   0.0152674    0.0486807      3.15516"
      ]
     },
     "execution_count": 66,
     "metadata": {},
     "output_type": "execute_result"
    }
   ],
   "source": [
    "metrics_df = print_metrics(pred50, df_test, 'ALS (50)', metrics_df=metrics_df)\n",
    "metrics_df"
   ]
  },
  {
   "cell_type": "markdown",
   "metadata": {},
   "source": [
    "# 8. LightFM"
   ]
  },
  {
   "cell_type": "markdown",
   "metadata": {},
   "source": [
    "Теперь обучим первую модель, в которой будем использовать признаки, описывающие фильмы. Воспользуемя библиотекой lightfm, однако придется много всего написать, что преобразовать ее к нашему удобному интерфейсу."
   ]
  },
  {
   "cell_type": "code",
   "execution_count": 67,
   "metadata": {},
   "outputs": [
    {
     "name": "stderr",
     "output_type": "stream",
     "text": [
      "C:\\Users\\koh-i\\anaconda3\\lib\\site-packages\\lightfm\\_lightfm_fast.py:10: UserWarning: LightFM was compiled without OpenMP support. Only a single thread will be used.\n",
      "  \"LightFM was compiled without OpenMP support. \"\n"
     ]
    }
   ],
   "source": [
    "# !pip install lightfm\n",
    "from lightfm import LightFM\n",
    "from lightfm.data import Dataset"
   ]
  },
  {
   "cell_type": "markdown",
   "metadata": {},
   "source": [
    "В качестве признаков будем использовать жанры фильмов."
   ]
  },
  {
   "cell_type": "code",
   "execution_count": 68,
   "metadata": {},
   "outputs": [],
   "source": [
    "class LFMRecommender(BaseModel):\n",
    "    \n",
    "    def __init__(\n",
    "        self, user_ids: np.ndarray, item_ids: np.ndarray, item_tags: tp.Optional[tp.Iterable],\n",
    "        no_components: int, epochs: int\n",
    "    ):\n",
    "        self.lfm_dataset = Dataset()\n",
    "        self.lfm_dataset.fit(users=user_ids, items=item_ids,\n",
    "                             user_features=None, item_features=item_tags)\n",
    "        self.user_mapping = self.lfm_dataset.mapping()[0]\n",
    "        self.item_mapping = self.lfm_dataset.mapping()[2]\n",
    "        self.inv_user_mapping = {value: key for key, value in self.user_mapping.items()}\n",
    "        self.inv_item_mapping = {value: key for key, value in self.item_mapping.items()}\n",
    "        self.no_components = no_components\n",
    "        self.epochs = epochs\n",
    "        self.LFM = LightFM(self.no_components, loss='warp', random_state=42)\n",
    "        self.k = 10\n",
    "    \n",
    "    \n",
    "    def fit(\n",
    "        self, log: pd.DataFrame, item_features: tp.Optional[pd.DataFrame]=None\n",
    "    ) -> 'LFMRecommender':\n",
    "        (interactions, weights) = self.lfm_dataset.build_interactions(\n",
    "            [(row.userId, row.movieId) for row in log.itertuples()]\n",
    "        ) if log is not None else (None, None)\n",
    "        item_features_sparse = self.lfm_dataset.build_item_features(\n",
    "            [[row.movieId, row.genres] for row in item_features.reset_index().itertuples()]\n",
    "        ) if item_features is not None else None\n",
    "        \n",
    "        self.LFM.fit(\n",
    "            interactions, user_features=None, item_features=item_features_sparse,\n",
    "            epochs=self.epochs, num_threads=8, verbose=True\n",
    "        )\n",
    "        return self\n",
    "    \n",
    "    \n",
    "    def _predict_user(\n",
    "        self, user_id: int\n",
    "    ):\n",
    "        pred = self.LFM.predict(\n",
    "            user_ids=user_id, item_ids=sorted(self.item_mapping.values()),\n",
    "            user_features=None, item_features=None\n",
    "        )\n",
    "        ids = np.argpartition(pred, -self.k)[-self.k:]\n",
    "        relevance = pred[ids]\n",
    "        return ids, relevance\n",
    "        \n",
    "    \n",
    "    def _predict(\n",
    "        self, users: pd.Series, log: pd.DataFrame=df_train, item_features: tp.Optional[pd.DataFrame]=None\n",
    "    ) -> pd.DataFrame:\n",
    "        _users = users.map(self.user_mapping).unique()\n",
    "        _users = pd.DataFrame(_users).rename(columns={0: 'userId'})\n",
    "        predictions = pd.DataFrame(columns=['userId', 'movieId', 'relevance'])\n",
    "        for user in tqdm(_users['userId']):\n",
    "            user_top_pred, user_top_relevance = self._predict_user(user)\n",
    "            pred = pd.DataFrame({'userId': user,\n",
    "                                 'movieId': user_top_pred,\n",
    "                                 'relevance': user_top_relevance})\n",
    "            predictions = pd.concat([predictions, pred])\n",
    "\n",
    "        predictions = predictions.astype({'userId': 'int', 'movieId': 'int'})\n",
    "        pred['userId'] = pred['userId'].map(self.inv_user_mapping)\n",
    "        pred['movieId'] = pred['movieId'].map(self.inv_item_mapping)\n",
    "        return predictions"
   ]
  },
  {
   "cell_type": "code",
   "execution_count": 69,
   "metadata": {},
   "outputs": [
    {
     "data": {
      "text/plain": [
       "array(['Adventure', 'Children', 'Fantasy', 'Drama', 'Mystery', 'Sci-Fi',\n",
       "       'Thriller', 'Crime', 'Action', 'Comedy', 'Romance', 'War',\n",
       "       'Horror', 'Musical', 'Western', 'Animation', 'IMAX', 'Film-Noir',\n",
       "       'Documentary', '(no genres listed)'], dtype=object)"
      ]
     },
     "execution_count": 69,
     "metadata": {},
     "output_type": "execute_result"
    }
   ],
   "source": [
    "item_features = deepcopy(df)\n",
    "item_features.loc[:, 'genres'] = item_features['genres'].str.split('|').apply(lambda x: x if isinstance(x, list) else [])\n",
    "unique_item_tags = item_features['genres'].explode().unique()\n",
    "unique_item_tags"
   ]
  },
  {
   "cell_type": "code",
   "execution_count": 70,
   "metadata": {},
   "outputs": [
    {
     "data": {
      "text/plain": [
       "movieId\n",
       "1        [Adventure, Children, Fantasy]\n",
       "1        [Adventure, Children, Fantasy]\n",
       "1        [Adventure, Children, Fantasy]\n",
       "1        [Adventure, Children, Fantasy]\n",
       "1        [Adventure, Children, Fantasy]\n",
       "                      ...              \n",
       "10327                [Documentary, War]\n",
       "10327                [Documentary, War]\n",
       "10327                [Documentary, War]\n",
       "10327                [Documentary, War]\n",
       "10327                [Documentary, War]\n",
       "Name: genres, Length: 9926677, dtype: object"
      ]
     },
     "execution_count": 70,
     "metadata": {},
     "output_type": "execute_result"
    }
   ],
   "source": [
    "item_features_list = item_features['genres']\n",
    "item_features_list.index = df['movieId']\n",
    "item_features_list"
   ]
  },
  {
   "cell_type": "markdown",
   "metadata": {},
   "source": [
    "Для начала возьмем размерность эмбеддингов, равную 64. И попробуем не использовать признаки."
   ]
  },
  {
   "cell_type": "code",
   "execution_count": 71,
   "metadata": {},
   "outputs": [
    {
     "name": "stderr",
     "output_type": "stream",
     "text": [
      "Epoch: 100%|███████████████████████████████████████████████████████████████████████████| 10/10 [11:53<00:00, 71.36s/it]\n"
     ]
    },
    {
     "data": {
      "text/plain": [
       "<__main__.LFMRecommender at 0x29885418048>"
      ]
     },
     "execution_count": 71,
     "metadata": {},
     "output_type": "execute_result"
    }
   ],
   "source": [
    "lfm = LFMRecommender(user_ids=df['userId'].unique(), item_ids=df['movieId'].unique(),\n",
    "                     item_tags=unique_item_tags, no_components=64, epochs=10)\n",
    "lfm.fit(df_train, item_features=None)"
   ]
  },
  {
   "cell_type": "code",
   "execution_count": 72,
   "metadata": {},
   "outputs": [
    {
     "name": "stderr",
     "output_type": "stream",
     "text": [
      "100%|█████████████████████████████████████████████████████████████████████████████| 3952/3952 [00:35<00:00, 109.93it/s]\n"
     ]
    },
    {
     "data": {
      "text/html": [
       "<div>\n",
       "<style scoped>\n",
       "    .dataframe tbody tr th:only-of-type {\n",
       "        vertical-align: middle;\n",
       "    }\n",
       "\n",
       "    .dataframe tbody tr th {\n",
       "        vertical-align: top;\n",
       "    }\n",
       "\n",
       "    .dataframe thead th {\n",
       "        text-align: right;\n",
       "    }\n",
       "</style>\n",
       "<table border=\"1\" class=\"dataframe\">\n",
       "  <thead>\n",
       "    <tr style=\"text-align: right;\">\n",
       "      <th></th>\n",
       "      <th>userId</th>\n",
       "      <th>movieId</th>\n",
       "      <th>relevance</th>\n",
       "    </tr>\n",
       "  </thead>\n",
       "  <tbody>\n",
       "    <tr>\n",
       "      <th>0</th>\n",
       "      <td>1488</td>\n",
       "      <td>908</td>\n",
       "      <td>2.436004</td>\n",
       "    </tr>\n",
       "    <tr>\n",
       "      <th>1</th>\n",
       "      <td>1488</td>\n",
       "      <td>142</td>\n",
       "      <td>2.526047</td>\n",
       "    </tr>\n",
       "    <tr>\n",
       "      <th>2</th>\n",
       "      <td>1488</td>\n",
       "      <td>1920</td>\n",
       "      <td>2.548024</td>\n",
       "    </tr>\n",
       "    <tr>\n",
       "      <th>3</th>\n",
       "      <td>1488</td>\n",
       "      <td>791</td>\n",
       "      <td>2.548153</td>\n",
       "    </tr>\n",
       "    <tr>\n",
       "      <th>4</th>\n",
       "      <td>1488</td>\n",
       "      <td>158</td>\n",
       "      <td>2.626087</td>\n",
       "    </tr>\n",
       "    <tr>\n",
       "      <th>5</th>\n",
       "      <td>1488</td>\n",
       "      <td>1924</td>\n",
       "      <td>2.586697</td>\n",
       "    </tr>\n",
       "    <tr>\n",
       "      <th>6</th>\n",
       "      <td>1488</td>\n",
       "      <td>855</td>\n",
       "      <td>2.665885</td>\n",
       "    </tr>\n",
       "    <tr>\n",
       "      <th>7</th>\n",
       "      <td>1488</td>\n",
       "      <td>314</td>\n",
       "      <td>2.819488</td>\n",
       "    </tr>\n",
       "    <tr>\n",
       "      <th>8</th>\n",
       "      <td>1488</td>\n",
       "      <td>818</td>\n",
       "      <td>2.674614</td>\n",
       "    </tr>\n",
       "    <tr>\n",
       "      <th>9</th>\n",
       "      <td>1488</td>\n",
       "      <td>96</td>\n",
       "      <td>3.143466</td>\n",
       "    </tr>\n",
       "    <tr>\n",
       "      <th>10</th>\n",
       "      <td>1551</td>\n",
       "      <td>448</td>\n",
       "      <td>2.681675</td>\n",
       "    </tr>\n",
       "    <tr>\n",
       "      <th>11</th>\n",
       "      <td>1551</td>\n",
       "      <td>483</td>\n",
       "      <td>2.888777</td>\n",
       "    </tr>\n",
       "  </tbody>\n",
       "</table>\n",
       "</div>"
      ],
      "text/plain": [
       "    userId  movieId  relevance\n",
       "0     1488      908   2.436004\n",
       "1     1488      142   2.526047\n",
       "2     1488     1920   2.548024\n",
       "3     1488      791   2.548153\n",
       "4     1488      158   2.626087\n",
       "5     1488     1924   2.586697\n",
       "6     1488      855   2.665885\n",
       "7     1488      314   2.819488\n",
       "8     1488      818   2.674614\n",
       "9     1488       96   3.143466\n",
       "10    1551      448   2.681675\n",
       "11    1551      483   2.888777"
      ]
     },
     "execution_count": 72,
     "metadata": {},
     "output_type": "execute_result"
    }
   ],
   "source": [
    "pred = lfm.predict(users=test_users, filter_seen=True)\n",
    "pred.head(12)"
   ]
  },
  {
   "cell_type": "code",
   "execution_count": 73,
   "metadata": {},
   "outputs": [
    {
     "data": {
      "text/html": [
       "<div>\n",
       "<style scoped>\n",
       "    .dataframe tbody tr th:only-of-type {\n",
       "        vertical-align: middle;\n",
       "    }\n",
       "\n",
       "    .dataframe tbody tr th {\n",
       "        vertical-align: top;\n",
       "    }\n",
       "\n",
       "    .dataframe thead th {\n",
       "        text-align: right;\n",
       "    }\n",
       "</style>\n",
       "<table border=\"1\" class=\"dataframe\">\n",
       "  <thead>\n",
       "    <tr style=\"text-align: right;\">\n",
       "      <th></th>\n",
       "      <th>hit_rate@10</th>\n",
       "      <th>map@10</th>\n",
       "      <th>coverage@10</th>\n",
       "      <th>surprisal@10</th>\n",
       "    </tr>\n",
       "  </thead>\n",
       "  <tbody>\n",
       "    <tr>\n",
       "      <th>LFM (64, no features)</th>\n",
       "      <td>0.00101215</td>\n",
       "      <td>3.59874e-05</td>\n",
       "      <td>0.0529932</td>\n",
       "      <td>7.78958</td>\n",
       "    </tr>\n",
       "  </tbody>\n",
       "</table>\n",
       "</div>"
      ],
      "text/plain": [
       "                      hit_rate@10       map@10 coverage@10 surprisal@10\n",
       "LFM (64, no features)  0.00101215  3.59874e-05   0.0529932      7.78958"
      ]
     },
     "execution_count": 73,
     "metadata": {},
     "output_type": "execute_result"
    }
   ],
   "source": [
    "metrics_lfm = print_metrics(pred, df_test, 'LFM (64, no features)')\n",
    "metrics_lfm"
   ]
  },
  {
   "cell_type": "markdown",
   "metadata": {},
   "source": [
    "Теперь добавим признаки о жанре фильмов."
   ]
  },
  {
   "cell_type": "code",
   "execution_count": 74,
   "metadata": {},
   "outputs": [
    {
     "name": "stderr",
     "output_type": "stream",
     "text": [
      "Epoch: 100%|████████████████████████████████████████████████████████████████████████████| 7/7 [40:50<00:00, 350.02s/it]\n",
      "100%|██████████████████████████████████████████████████████████████████████████████| 3952/3952 [00:43<00:00, 90.40it/s]\n"
     ]
    },
    {
     "data": {
      "text/html": [
       "<div>\n",
       "<style scoped>\n",
       "    .dataframe tbody tr th:only-of-type {\n",
       "        vertical-align: middle;\n",
       "    }\n",
       "\n",
       "    .dataframe tbody tr th {\n",
       "        vertical-align: top;\n",
       "    }\n",
       "\n",
       "    .dataframe thead th {\n",
       "        text-align: right;\n",
       "    }\n",
       "</style>\n",
       "<table border=\"1\" class=\"dataframe\">\n",
       "  <thead>\n",
       "    <tr style=\"text-align: right;\">\n",
       "      <th></th>\n",
       "      <th>hit_rate@10</th>\n",
       "      <th>map@10</th>\n",
       "      <th>coverage@10</th>\n",
       "      <th>surprisal@10</th>\n",
       "    </tr>\n",
       "  </thead>\n",
       "  <tbody>\n",
       "    <tr>\n",
       "      <th>LFM (64, features)</th>\n",
       "      <td>0.000253036</td>\n",
       "      <td>1.26518e-05</td>\n",
       "      <td>0.0249982</td>\n",
       "      <td>9.81308</td>\n",
       "    </tr>\n",
       "  </tbody>\n",
       "</table>\n",
       "</div>"
      ],
      "text/plain": [
       "                    hit_rate@10       map@10 coverage@10 surprisal@10\n",
       "LFM (64, features)  0.000253036  1.26518e-05   0.0249982      9.81308"
      ]
     },
     "execution_count": 74,
     "metadata": {},
     "output_type": "execute_result"
    }
   ],
   "source": [
    "lfm = LFMRecommender(user_ids=df['userId'].unique(), item_ids=df['movieId'].unique(),\n",
    "                     item_tags=unique_item_tags, no_components=64, epochs=7)\n",
    "lfm.fit(df_train, item_features=item_features_list)\n",
    "pred_feat = lfm.predict(users=test_users, filter_seen=True)\n",
    "metrics_lfm_feat = print_metrics(pred_feat, df_test, 'LFM (64, features)')\n",
    "metrics_lfm_feat"
   ]
  },
  {
   "cell_type": "markdown",
   "metadata": {},
   "source": [
    "Довольно странный результат, что рекомендации получаются вообще несоответствующими поведению пользователей."
   ]
  },
  {
   "cell_type": "markdown",
   "metadata": {},
   "source": [
    "# 9. Результаты и выводы."
   ]
  },
  {
   "cell_type": "markdown",
   "metadata": {},
   "source": [
    "Итого, лучшей моделью оказался Implicit ALS. То есть учет признакового описания фильмов не помогает рекомендовать правильные фильмы, и большее значение имеет именно история взаимодействий пользователя с фильмами. Примечательно, что довольно хорошо показал себя самый примитивный подход с рекомендацией одних и тех же популярных фильмов.\n",
    "\\\n",
    "Также отметим, что усложнение любой из моделей (увеличение размерностей) повышало разнообразия рекомендаций, но качество при этом снижалось.\n",
    "\\\n",
    "\\\n",
    "Итоги:"
   ]
  },
  {
   "cell_type": "code",
   "execution_count": 75,
   "metadata": {},
   "outputs": [
    {
     "data": {
      "text/html": [
       "<div>\n",
       "<style scoped>\n",
       "    .dataframe tbody tr th:only-of-type {\n",
       "        vertical-align: middle;\n",
       "    }\n",
       "\n",
       "    .dataframe tbody tr th {\n",
       "        vertical-align: top;\n",
       "    }\n",
       "\n",
       "    .dataframe thead th {\n",
       "        text-align: right;\n",
       "    }\n",
       "</style>\n",
       "<table border=\"1\" class=\"dataframe\">\n",
       "  <thead>\n",
       "    <tr style=\"text-align: right;\">\n",
       "      <th></th>\n",
       "      <th>hit_rate@10</th>\n",
       "      <th>map@10</th>\n",
       "      <th>coverage@10</th>\n",
       "      <th>surprisal@10</th>\n",
       "    </tr>\n",
       "  </thead>\n",
       "  <tbody>\n",
       "    <tr>\n",
       "      <th>Popular</th>\n",
       "      <td>0.158907</td>\n",
       "      <td>0.0136498</td>\n",
       "      <td>0.000730941</td>\n",
       "      <td>1.64473</td>\n",
       "    </tr>\n",
       "    <tr>\n",
       "      <th>SVD (32)</th>\n",
       "      <td>0.0976721</td>\n",
       "      <td>0.00767189</td>\n",
       "      <td>0.0249251</td>\n",
       "      <td>2.48481</td>\n",
       "    </tr>\n",
       "    <tr>\n",
       "      <th>ALS (50)</th>\n",
       "      <td>0.270749</td>\n",
       "      <td>0.0152674</td>\n",
       "      <td>0.0486807</td>\n",
       "      <td>3.15516</td>\n",
       "    </tr>\n",
       "    <tr>\n",
       "      <th>LFM (64, no features)</th>\n",
       "      <td>0.00101215</td>\n",
       "      <td>3.59874e-05</td>\n",
       "      <td>0.0529932</td>\n",
       "      <td>7.78958</td>\n",
       "    </tr>\n",
       "  </tbody>\n",
       "</table>\n",
       "</div>"
      ],
      "text/plain": [
       "                      hit_rate@10       map@10  coverage@10 surprisal@10\n",
       "Popular                  0.158907    0.0136498  0.000730941      1.64473\n",
       "SVD (32)                0.0976721   0.00767189    0.0249251      2.48481\n",
       "ALS (50)                 0.270749    0.0152674    0.0486807      3.15516\n",
       "LFM (64, no features)  0.00101215  3.59874e-05    0.0529932      7.78958"
      ]
     },
     "execution_count": 75,
     "metadata": {},
     "output_type": "execute_result"
    }
   ],
   "source": [
    "metrics_df = print_metrics(pred, df_test, 'LFM (64, no features)', metrics_df=metrics_df)\n",
    "metrics_df"
   ]
  }
 ],
 "metadata": {
  "kernelspec": {
   "display_name": "Python 3",
   "language": "python",
   "name": "python3"
  },
  "language_info": {
   "codemirror_mode": {
    "name": "ipython",
    "version": 3
   },
   "file_extension": ".py",
   "mimetype": "text/x-python",
   "name": "python",
   "nbconvert_exporter": "python",
   "pygments_lexer": "ipython3",
   "version": "3.7.6"
  }
 },
 "nbformat": 4,
 "nbformat_minor": 4
}
